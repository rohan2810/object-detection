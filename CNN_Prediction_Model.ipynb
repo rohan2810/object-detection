{
  "nbformat": 4,
  "nbformat_minor": 0,
  "metadata": {
    "colab": {
      "name": "CNN_Prediction_Model.ipynb",
      "provenance": [],
      "collapsed_sections": []
    },
    "kernelspec": {
      "name": "python3",
      "display_name": "Python 3"
    },
    "language_info": {
      "name": "python"
    },
    "accelerator": "GPU"
  },
  "cells": [
    {
      "cell_type": "code",
      "source": [
        "import tensorflow as tf\n",
        "import os\n",
        "import pandas as pd\n",
        "import numpy as np"
      ],
      "metadata": {
        "id": "SBKloyZe1mTa"
      },
      "execution_count": null,
      "outputs": []
    },
    {
      "cell_type": "code",
      "source": [
        "data = pd.read_excel('combined.xlsx')\n",
        "data = data.drop(columns = 'time')\n",
        "data"
      ],
      "metadata": {
        "colab": {
          "base_uri": "https://localhost:8080/",
          "height": 424
        },
        "id": "PMhTVFfX1mWA",
        "outputId": "b023113c-9ab7-4639-ea3c-f4e5562bac4d"
      },
      "execution_count": null,
      "outputs": [
        {
          "output_type": "execute_result",
          "data": {
            "text/plain": [
              "           area   velocity\n",
              "0      0.007782  10.000000\n",
              "1      0.007843  10.728969\n",
              "2      0.007719  10.951057\n",
              "3      0.007480  10.309017\n",
              "4      0.007183   9.271031\n",
              "...         ...        ...\n",
              "43896  0.002988  10.187381\n",
              "43897  0.003163   9.229487\n",
              "43898  0.003103   9.031417\n",
              "43899  0.002930   9.690983\n",
              "43900  0.003044  10.587785\n",
              "\n",
              "[43901 rows x 2 columns]"
            ],
            "text/html": [
              "\n",
              "  <div id=\"df-a8190596-825d-4dfe-a60c-d01d13aaf77e\">\n",
              "    <div class=\"colab-df-container\">\n",
              "      <div>\n",
              "<style scoped>\n",
              "    .dataframe tbody tr th:only-of-type {\n",
              "        vertical-align: middle;\n",
              "    }\n",
              "\n",
              "    .dataframe tbody tr th {\n",
              "        vertical-align: top;\n",
              "    }\n",
              "\n",
              "    .dataframe thead th {\n",
              "        text-align: right;\n",
              "    }\n",
              "</style>\n",
              "<table border=\"1\" class=\"dataframe\">\n",
              "  <thead>\n",
              "    <tr style=\"text-align: right;\">\n",
              "      <th></th>\n",
              "      <th>area</th>\n",
              "      <th>velocity</th>\n",
              "    </tr>\n",
              "  </thead>\n",
              "  <tbody>\n",
              "    <tr>\n",
              "      <th>0</th>\n",
              "      <td>0.007782</td>\n",
              "      <td>10.000000</td>\n",
              "    </tr>\n",
              "    <tr>\n",
              "      <th>1</th>\n",
              "      <td>0.007843</td>\n",
              "      <td>10.728969</td>\n",
              "    </tr>\n",
              "    <tr>\n",
              "      <th>2</th>\n",
              "      <td>0.007719</td>\n",
              "      <td>10.951057</td>\n",
              "    </tr>\n",
              "    <tr>\n",
              "      <th>3</th>\n",
              "      <td>0.007480</td>\n",
              "      <td>10.309017</td>\n",
              "    </tr>\n",
              "    <tr>\n",
              "      <th>4</th>\n",
              "      <td>0.007183</td>\n",
              "      <td>9.271031</td>\n",
              "    </tr>\n",
              "    <tr>\n",
              "      <th>...</th>\n",
              "      <td>...</td>\n",
              "      <td>...</td>\n",
              "    </tr>\n",
              "    <tr>\n",
              "      <th>43896</th>\n",
              "      <td>0.002988</td>\n",
              "      <td>10.187381</td>\n",
              "    </tr>\n",
              "    <tr>\n",
              "      <th>43897</th>\n",
              "      <td>0.003163</td>\n",
              "      <td>9.229487</td>\n",
              "    </tr>\n",
              "    <tr>\n",
              "      <th>43898</th>\n",
              "      <td>0.003103</td>\n",
              "      <td>9.031417</td>\n",
              "    </tr>\n",
              "    <tr>\n",
              "      <th>43899</th>\n",
              "      <td>0.002930</td>\n",
              "      <td>9.690983</td>\n",
              "    </tr>\n",
              "    <tr>\n",
              "      <th>43900</th>\n",
              "      <td>0.003044</td>\n",
              "      <td>10.587785</td>\n",
              "    </tr>\n",
              "  </tbody>\n",
              "</table>\n",
              "<p>43901 rows × 2 columns</p>\n",
              "</div>\n",
              "      <button class=\"colab-df-convert\" onclick=\"convertToInteractive('df-a8190596-825d-4dfe-a60c-d01d13aaf77e')\"\n",
              "              title=\"Convert this dataframe to an interactive table.\"\n",
              "              style=\"display:none;\">\n",
              "        \n",
              "  <svg xmlns=\"http://www.w3.org/2000/svg\" height=\"24px\"viewBox=\"0 0 24 24\"\n",
              "       width=\"24px\">\n",
              "    <path d=\"M0 0h24v24H0V0z\" fill=\"none\"/>\n",
              "    <path d=\"M18.56 5.44l.94 2.06.94-2.06 2.06-.94-2.06-.94-.94-2.06-.94 2.06-2.06.94zm-11 1L8.5 8.5l.94-2.06 2.06-.94-2.06-.94L8.5 2.5l-.94 2.06-2.06.94zm10 10l.94 2.06.94-2.06 2.06-.94-2.06-.94-.94-2.06-.94 2.06-2.06.94z\"/><path d=\"M17.41 7.96l-1.37-1.37c-.4-.4-.92-.59-1.43-.59-.52 0-1.04.2-1.43.59L10.3 9.45l-7.72 7.72c-.78.78-.78 2.05 0 2.83L4 21.41c.39.39.9.59 1.41.59.51 0 1.02-.2 1.41-.59l7.78-7.78 2.81-2.81c.8-.78.8-2.07 0-2.86zM5.41 20L4 18.59l7.72-7.72 1.47 1.35L5.41 20z\"/>\n",
              "  </svg>\n",
              "      </button>\n",
              "      \n",
              "  <style>\n",
              "    .colab-df-container {\n",
              "      display:flex;\n",
              "      flex-wrap:wrap;\n",
              "      gap: 12px;\n",
              "    }\n",
              "\n",
              "    .colab-df-convert {\n",
              "      background-color: #E8F0FE;\n",
              "      border: none;\n",
              "      border-radius: 50%;\n",
              "      cursor: pointer;\n",
              "      display: none;\n",
              "      fill: #1967D2;\n",
              "      height: 32px;\n",
              "      padding: 0 0 0 0;\n",
              "      width: 32px;\n",
              "    }\n",
              "\n",
              "    .colab-df-convert:hover {\n",
              "      background-color: #E2EBFA;\n",
              "      box-shadow: 0px 1px 2px rgba(60, 64, 67, 0.3), 0px 1px 3px 1px rgba(60, 64, 67, 0.15);\n",
              "      fill: #174EA6;\n",
              "    }\n",
              "\n",
              "    [theme=dark] .colab-df-convert {\n",
              "      background-color: #3B4455;\n",
              "      fill: #D2E3FC;\n",
              "    }\n",
              "\n",
              "    [theme=dark] .colab-df-convert:hover {\n",
              "      background-color: #434B5C;\n",
              "      box-shadow: 0px 1px 3px 1px rgba(0, 0, 0, 0.15);\n",
              "      filter: drop-shadow(0px 1px 2px rgba(0, 0, 0, 0.3));\n",
              "      fill: #FFFFFF;\n",
              "    }\n",
              "  </style>\n",
              "\n",
              "      <script>\n",
              "        const buttonEl =\n",
              "          document.querySelector('#df-a8190596-825d-4dfe-a60c-d01d13aaf77e button.colab-df-convert');\n",
              "        buttonEl.style.display =\n",
              "          google.colab.kernel.accessAllowed ? 'block' : 'none';\n",
              "\n",
              "        async function convertToInteractive(key) {\n",
              "          const element = document.querySelector('#df-a8190596-825d-4dfe-a60c-d01d13aaf77e');\n",
              "          const dataTable =\n",
              "            await google.colab.kernel.invokeFunction('convertToInteractive',\n",
              "                                                     [key], {});\n",
              "          if (!dataTable) return;\n",
              "\n",
              "          const docLinkHtml = 'Like what you see? Visit the ' +\n",
              "            '<a target=\"_blank\" href=https://colab.research.google.com/notebooks/data_table.ipynb>data table notebook</a>'\n",
              "            + ' to learn more about interactive tables.';\n",
              "          element.innerHTML = '';\n",
              "          dataTable['output_type'] = 'display_data';\n",
              "          await google.colab.output.renderOutput(dataTable, element);\n",
              "          const docLink = document.createElement('div');\n",
              "          docLink.innerHTML = docLinkHtml;\n",
              "          element.appendChild(docLink);\n",
              "        }\n",
              "      </script>\n",
              "    </div>\n",
              "  </div>\n",
              "  "
            ]
          },
          "metadata": {},
          "execution_count": 3
        }
      ]
    },
    {
      "cell_type": "code",
      "source": [
        "len(data)\n",
        "data.plot()"
      ],
      "metadata": {
        "colab": {
          "base_uri": "https://localhost:8080/",
          "height": 282
        },
        "id": "PuyyIakzB1qS",
        "outputId": "30f208ab-2df4-4e30-e08c-a0a07ad2d93b"
      },
      "execution_count": null,
      "outputs": [
        {
          "output_type": "execute_result",
          "data": {
            "text/plain": [
              "<matplotlib.axes._subplots.AxesSubplot at 0x7f499d610950>"
            ]
          },
          "metadata": {},
          "execution_count": 4
        },
        {
          "output_type": "display_data",
          "data": {
            "text/plain": [
              "<Figure size 432x288 with 1 Axes>"
            ],
            "image/png": "[encoded data removed]"
          },
          "metadata": {
            "needs_background": "light"
          }
        }
      ]
    },
    {
      "cell_type": "code",
      "source": [
        "import os\n",
        "import cv2\n",
        "import csv\n",
        "\n",
        "import random\n",
        "import numpy as np\n",
        "import pandas as pd\n",
        "\n",
        "import matplotlib.pyplot as plt\n",
        "import matplotlib.image as mpimg\n",
        "import matplotlib.gridspec as gridspec\n",
        "\n",
        "from tensorflow.keras.preprocessing.image import ImageDataGenerator\n",
        "from tensorflow.keras.preprocessing import image\n",
        "from tensorflow.keras.optimizers import RMSprop\n"
      ],
      "metadata": {
        "id": "-PE1fOwDB135"
      },
      "execution_count": null,
      "outputs": []
    },
    {
      "cell_type": "code",
      "source": [
        "def split_columns(df, window_size=48):\n",
        "  df_as_np = df.to_numpy()\n",
        "\n",
        "  df_area_as_np = df['area'].to_numpy()\n",
        "  df_velocity_as_np = df['velocity'].to_numpy()\n",
        "\n",
        "  X = []\n",
        "  y = []\n",
        "  for i in range(len(df_as_np)-window_size):\n",
        "    x = [i for i in df_area_as_np[i:i+window_size]]\n",
        "    X.append(x)\n",
        "    label = df_velocity_as_np[i+window_size]\n",
        "    y.append(label)\n",
        "  return np.array(X), np.array(y)\n"
      ],
      "metadata": {
        "id": "QLp4T4KojC30"
      },
      "execution_count": null,
      "outputs": []
    },
    {
      "cell_type": "code",
      "source": [
        "x, y = split_columns(data)\n",
        "x.shape, y.shape"
      ],
      "metadata": {
        "colab": {
          "base_uri": "https://localhost:8080/"
        },
        "id": "jQDAH3yqBLc6",
        "outputId": "b2a3589f-54f1-472d-d6fe-a3c8bfea4c6f"
      },
      "execution_count": null,
      "outputs": [
        {
          "output_type": "execute_result",
          "data": {
            "text/plain": [
              "((43853, 48), (43853,))"
            ]
          },
          "metadata": {},
          "execution_count": 76
        }
      ]
    },
    {
      "cell_type": "code",
      "source": [
        "# X2_train, y2_train = X2[:2000], y2[:2000]\n",
        "# X2_val, y2_val = X2[2000:2105], y2[2000:2105]\n",
        "# X2_test, y2_test = X2[2105:], y2[2105:]\n",
        "# X2_train.shape, y2_train.shape, X2_val.shape, y2_val.shape, X2_test.shape, y2_test.shape\n",
        "\n",
        "from sklearn.model_selection import train_test_split\n",
        "\n",
        "x_train, x_test, y_train, y_test = train_test_split(x, y, test_size=0.2, random_state=0)\n",
        "# x_train = x_train.reshape(-1,1)\n",
        "# x_test = x_test.reshape(-1,1)\n",
        "# y_train = y_train.reshape(-1,1)\n",
        "# y_test = y_test.reshape(-1,1)"
      ],
      "metadata": {
        "id": "WJAbUeikBWKS"
      },
      "execution_count": null,
      "outputs": []
    },
    {
      "cell_type": "code",
      "source": [
        "x_test"
      ],
      "metadata": {
        "colab": {
          "base_uri": "https://localhost:8080/"
        },
        "id": "i3a8bPkHUCQf",
        "outputId": "a34ec7ce-e034-46dc-d875-2fe5d405be5b"
      },
      "execution_count": null,
      "outputs": [
        {
          "output_type": "execute_result",
          "data": {
            "text/plain": [
              "array([[0.00554036, 0.00577257, 0.00569661, ..., 0.00561523, 0.00601562,\n",
              "        0.00585503],\n",
              "       [0.00385995, 0.00381559, 0.00369117, ..., 0.00335938, 0.00344232,\n",
              "        0.00328125],\n",
              "       [0.00609918, 0.00586155, 0.00562391, ..., 0.00508898, 0.00523872,\n",
              "        0.00507812],\n",
              "       ...,\n",
              "       [0.00839461, 0.00917681, 0.0091682 , ..., 0.00852865, 0.00859519,\n",
              "        0.00872444],\n",
              "       [0.00792969, 0.00765516, 0.00802409, ..., 0.00840169, 0.00830729,\n",
              "        0.00783963],\n",
              "       [0.0133518 , 0.0131196 , 0.0142253 , ..., 0.0107357 , 0.0112793 ,\n",
              "        0.0109375 ]])"
            ]
          },
          "metadata": {},
          "execution_count": 62
        }
      ]
    },
    {
      "cell_type": "code",
      "source": [
        "from tensorflow.keras.models import Sequential\n",
        "from tensorflow.keras.layers import *\n",
        "from tensorflow.keras.callbacks import ModelCheckpoint\n",
        "from tensorflow.keras.losses import MeanSquaredError\n",
        "from tensorflow.keras.metrics import RootMeanSquaredError\n",
        "from tensorflow.keras.optimizers import Adam\n",
        "from tensorflow.keras.layers import Bidirectional\n",
        "\n",
        "\n",
        "model = Sequential()\n",
        "model.add(InputLayer((12, 1)))\n",
        "model.add(LSTM(15))\n",
        "\n",
        "model.add(Dense(1, name = 'output', kernel_initializer = 'random_uniform'))"
      ],
      "metadata": {
        "id": "x_uF_xawB16s"
      },
      "execution_count": null,
      "outputs": []
    },
    {
      "cell_type": "code",
      "source": [
        "model = Sequential()\n",
        "model.add(InputLayer((12, 1)))\n",
        "model.add(LSTM(15))\n",
        "model.add(Dense(1, name = 'output', kernel_initializer = 'random_uniform'))"
      ],
      "metadata": {
        "id": "VYyF0mZG3k45"
      },
      "execution_count": null,
      "outputs": []
    },
    {
      "cell_type": "code",
      "source": [
        "from keras.callbacks import EarlyStopping, ModelCheckpoint\n",
        "cp1 = ModelCheckpoint('model2/', save_best_only=True)"
      ],
      "metadata": {
        "id": "yR772x1XEcqF"
      },
      "execution_count": null,
      "outputs": []
    },
    {
      "cell_type": "code",
      "source": [
        "model.compile(loss='mean_squared_error', optimizer=Adam(learning_rate=0.0001), metrics=[RootMeanSquaredError()])"
      ],
      "metadata": {
        "id": "JW2qYaafEcv0"
      },
      "execution_count": null,
      "outputs": []
    },
    {
      "cell_type": "code",
      "source": [
        "model1 = model.fit(x_train, y_train, validation_split = 0.2, epochs=15, callbacks=[cp1])"
      ],
      "metadata": {
        "colab": {
          "base_uri": "https://localhost:8080/"
        },
        "id": "_herGiMbEc0n",
        "outputId": "46ee9ae4-517e-4ea1-b01b-9d376f776eb1"
      },
      "execution_count": null,
      "outputs": [
        {
          "output_type": "stream",
          "name": "stdout",
          "text": [
            "Epoch 1/15\n",
            "878/878 [==============================] - ETA: 0s - loss: 20.4168 - root_mean_squared_error: 4.5185"
          ]
        },
        {
          "output_type": "stream",
          "name": "stderr",
          "text": [
            "WARNING:absl:Found untraced functions such as gru_cell_3_layer_call_fn, gru_cell_3_layer_call_and_return_conditional_losses while saving (showing 2 of 2). These functions will not be directly callable after loading.\n"
          ]
        },
        {
          "output_type": "stream",
          "name": "stdout",
          "text": [
            "INFO:tensorflow:Assets written to: model2/assets\n"
          ]
        },
        {
          "output_type": "stream",
          "name": "stderr",
          "text": [
            "INFO:tensorflow:Assets written to: model2/assets\n",
            "WARNING:absl:<keras.layers.recurrent.GRUCell object at 0x7f48ce117d50> has the same name 'GRUCell' as a built-in Keras object. Consider renaming <class 'keras.layers.recurrent.GRUCell'> to avoid naming conflicts when loading with `tf.keras.models.load_model`. If renaming is not possible, pass the object in the `custom_objects` parameter of the load function.\n"
          ]
        },
        {
          "output_type": "stream",
          "name": "stdout",
          "text": [
            "\b\b\b\b\b\b\b\b\b\b\b\b\b\b\b\b\b\b\b\b\b\b\b\b\b\b\b\b\b\b\b\b\b\b\b\b\b\b\b\b\b\b\b\b\b\b\b\b\b\b\b\b\b\b\b\b\b\b\b\b\b\b\b\b\b\b\b\b\b\b\b\b\b\b\b\b\b\b\b\b\b\b\b\b\b\b\b\b\b\b\b\b\b\b\b\b\b\b\b\b\r878/878 [==============================] - 11s 11ms/step - loss: 20.4168 - root_mean_squared_error: 4.5185 - val_loss: 0.5034 - val_root_mean_squared_error: 0.7095\n",
            "Epoch 2/15\n",
            "872/878 [============================>.] - ETA: 0s - loss: 0.4976 - root_mean_squared_error: 0.7054"
          ]
        },
        {
          "output_type": "stream",
          "name": "stderr",
          "text": [
            "WARNING:absl:Found untraced functions such as gru_cell_3_layer_call_fn, gru_cell_3_layer_call_and_return_conditional_losses while saving (showing 2 of 2). These functions will not be directly callable after loading.\n"
          ]
        },
        {
          "output_type": "stream",
          "name": "stdout",
          "text": [
            "INFO:tensorflow:Assets written to: model2/assets\n"
          ]
        },
        {
          "output_type": "stream",
          "name": "stderr",
          "text": [
            "INFO:tensorflow:Assets written to: model2/assets\n",
            "WARNING:absl:<keras.layers.recurrent.GRUCell object at 0x7f48ce117d50> has the same name 'GRUCell' as a built-in Keras object. Consider renaming <class 'keras.layers.recurrent.GRUCell'> to avoid naming conflicts when loading with `tf.keras.models.load_model`. If renaming is not possible, pass the object in the `custom_objects` parameter of the load function.\n"
          ]
        },
        {
          "output_type": "stream",
          "name": "stdout",
          "text": [
            "\b\b\b\b\b\b\b\b\b\b\b\b\b\b\b\b\b\b\b\b\b\b\b\b\b\b\b\b\b\b\b\b\b\b\b\b\b\b\b\b\b\b\b\b\b\b\b\b\b\b\b\b\b\b\b\b\b\b\b\b\b\b\b\b\b\b\b\b\b\b\b\b\b\b\b\b\b\b\b\b\b\b\b\b\b\b\b\b\b\b\b\b\b\b\b\b\b\b\b\r878/878 [==============================] - 8s 9ms/step - loss: 0.4976 - root_mean_squared_error: 0.7054 - val_loss: 0.5031 - val_root_mean_squared_error: 0.7093\n",
            "Epoch 3/15\n",
            "878/878 [==============================] - 5s 5ms/step - loss: 0.4981 - root_mean_squared_error: 0.7058 - val_loss: 0.5036 - val_root_mean_squared_error: 0.7097\n",
            "Epoch 4/15\n",
            "878/878 [==============================] - 5s 5ms/step - loss: 0.4982 - root_mean_squared_error: 0.7058 - val_loss: 0.5032 - val_root_mean_squared_error: 0.7093\n",
            "Epoch 5/15\n",
            "878/878 [==============================] - 5s 6ms/step - loss: 0.4987 - root_mean_squared_error: 0.7062 - val_loss: 0.5032 - val_root_mean_squared_error: 0.7093\n",
            "Epoch 6/15\n",
            "878/878 [==============================] - 5s 5ms/step - loss: 0.4995 - root_mean_squared_error: 0.7067 - val_loss: 0.5096 - val_root_mean_squared_error: 0.7139\n",
            "Epoch 7/15\n",
            "878/878 [==============================] - 5s 5ms/step - loss: 0.5010 - root_mean_squared_error: 0.7078 - val_loss: 0.5045 - val_root_mean_squared_error: 0.7103\n",
            "Epoch 8/15\n",
            "878/878 [==============================] - 5s 5ms/step - loss: 0.4998 - root_mean_squared_error: 0.7070 - val_loss: 0.5086 - val_root_mean_squared_error: 0.7132\n",
            "Epoch 9/15\n",
            "878/878 [==============================] - 5s 5ms/step - loss: 0.5007 - root_mean_squared_error: 0.7076 - val_loss: 0.5079 - val_root_mean_squared_error: 0.7127\n",
            "Epoch 10/15\n",
            "878/878 [==============================] - 5s 6ms/step - loss: 0.4999 - root_mean_squared_error: 0.7070 - val_loss: 0.5081 - val_root_mean_squared_error: 0.7128\n",
            "Epoch 11/15\n",
            "878/878 [==============================] - 5s 5ms/step - loss: 0.4998 - root_mean_squared_error: 0.7070 - val_loss: 0.5048 - val_root_mean_squared_error: 0.7105\n",
            "Epoch 12/15\n",
            "878/878 [==============================] - 5s 6ms/step - loss: 0.4998 - root_mean_squared_error: 0.7069 - val_loss: 0.5041 - val_root_mean_squared_error: 0.7100\n",
            "Epoch 13/15\n",
            "878/878 [==============================] - 5s 5ms/step - loss: 0.5004 - root_mean_squared_error: 0.7074 - val_loss: 0.5040 - val_root_mean_squared_error: 0.7099\n",
            "Epoch 14/15\n",
            "878/878 [==============================] - 5s 6ms/step - loss: 0.5003 - root_mean_squared_error: 0.7073 - val_loss: 0.5037 - val_root_mean_squared_error: 0.7097\n",
            "Epoch 15/15\n",
            "878/878 [==============================] - 5s 5ms/step - loss: 0.5004 - root_mean_squared_error: 0.7074 - val_loss: 0.5033 - val_root_mean_squared_error: 0.7094\n"
          ]
        }
      ]
    },
    {
      "cell_type": "code",
      "source": [
        "plt.plot(model1.history['loss'], label = 'training loss')\n",
        "plt.plot(model1.history['val_loss'], label ='validation loss')\n",
        "plt.legend()"
      ],
      "metadata": {
        "colab": {
          "base_uri": "https://localhost:8080/",
          "height": 282
        },
        "id": "N1iItAvih5Wi",
        "outputId": "dee7e0ad-f260-4b3b-c637-58f34b92f654"
      },
      "execution_count": null,
      "outputs": [
        {
          "output_type": "execute_result",
          "data": {
            "text/plain": [
              "<matplotlib.legend.Legend at 0x7f48ea8b5ad0>"
            ]
          },
          "metadata": {},
          "execution_count": 82
        },
        {
          "output_type": "display_data",
          "data": {
            "text/plain": [
              "<Figure size 432x288 with 1 Axes>"
            ],
            "image/png": "[encoded data removed]"
          },
          "metadata": {
            "needs_background": "light"
          }
        }
      ]
    },
    {
      "cell_type": "code",
      "source": [
        "from tensorflow.keras.models import load_model\n",
        "model1 = load_model('model2/')"
      ],
      "metadata": {
        "id": "eTt4GUY-FCdl"
      },
      "execution_count": null,
      "outputs": []
    },
    {
      "cell_type": "code",
      "source": [
        "from sklearn.metrics import mean_squared_error as mse\n",
        "from math import sqrt\n",
        "\n",
        "def plot_predictions1(model, X, y, start=0, end=10):\n",
        "  predictions = model.predict(X).flatten()\n",
        "  df = pd.DataFrame(data={'Predictions':predictions, 'Actuals':y})\n",
        "  plt.plot(predictions[start:end])\n",
        "  plt.plot(y[start:end])\n",
        "  return sqrt(mse(y, predictions))\n",
        "plot_predictions1(model1, x_test, y_test)"
      ],
      "metadata": {
        "colab": {
          "base_uri": "https://localhost:8080/",
          "height": 282
        },
        "id": "6lYwqWwTENAU",
        "outputId": "098a36ea-e2e5-4d24-97c5-e90e9390b081"
      },
      "execution_count": null,
      "outputs": [
        {
          "output_type": "execute_result",
          "data": {
            "text/plain": [
              "0.7050458987354142"
            ]
          },
          "metadata": {},
          "execution_count": 18
        },
        {
          "output_type": "display_data",
          "data": {
            "text/plain": [
              "<Figure size 432x288 with 1 Axes>"
            ],
            "image/png": "[encoded data removed]"
          },
          "metadata": {
            "needs_background": "light"
          }
        }
      ]
    },
    {
      "cell_type": "code",
      "source": [
        "test_predictions = model1.predict(x_test).flatten()\n",
        "test_results = pd.DataFrame(data={'Test Predictions':test_predictions, 'Actuals':y_test})\n",
        "test_results"
      ],
      "metadata": {
        "colab": {
          "base_uri": "https://localhost:8080/",
          "height": 424
        },
        "id": "anYe8MF-G5dj",
        "outputId": "502c7a72-4180-41d9-90b1-6240f3e18ede"
      },
      "execution_count": null,
      "outputs": [
        {
          "output_type": "execute_result",
          "data": {
            "text/plain": [
              "      Test Predictions    Actuals\n",
              "0             9.998750  11.000000\n",
              "1             9.998686  10.968583\n",
              "2             9.998743  10.481754\n",
              "3             9.998971   9.190983\n",
              "4             9.999004  10.425779\n",
              "...                ...        ...\n",
              "8766          9.998889  10.728969\n",
              "8767          9.998878  10.904827\n",
              "8768          9.999027  11.000000\n",
              "8769          9.998754   9.518246\n",
              "8770          9.998682  10.125333\n",
              "\n",
              "[8771 rows x 2 columns]"
            ],
            "text/html": [
              "\n",
              "  <div id=\"df-c91d8fec-718d-4503-b16f-6b203079861d\">\n",
              "    <div class=\"colab-df-container\">\n",
              "      <div>\n",
              "<style scoped>\n",
              "    .dataframe tbody tr th:only-of-type {\n",
              "        vertical-align: middle;\n",
              "    }\n",
              "\n",
              "    .dataframe tbody tr th {\n",
              "        vertical-align: top;\n",
              "    }\n",
              "\n",
              "    .dataframe thead th {\n",
              "        text-align: right;\n",
              "    }\n",
              "</style>\n",
              "<table border=\"1\" class=\"dataframe\">\n",
              "  <thead>\n",
              "    <tr style=\"text-align: right;\">\n",
              "      <th></th>\n",
              "      <th>Test Predictions</th>\n",
              "      <th>Actuals</th>\n",
              "    </tr>\n",
              "  </thead>\n",
              "  <tbody>\n",
              "    <tr>\n",
              "      <th>0</th>\n",
              "      <td>9.998750</td>\n",
              "      <td>11.000000</td>\n",
              "    </tr>\n",
              "    <tr>\n",
              "      <th>1</th>\n",
              "      <td>9.998686</td>\n",
              "      <td>10.968583</td>\n",
              "    </tr>\n",
              "    <tr>\n",
              "      <th>2</th>\n",
              "      <td>9.998743</td>\n",
              "      <td>10.481754</td>\n",
              "    </tr>\n",
              "    <tr>\n",
              "      <th>3</th>\n",
              "      <td>9.998971</td>\n",
              "      <td>9.190983</td>\n",
              "    </tr>\n",
              "    <tr>\n",
              "      <th>4</th>\n",
              "      <td>9.999004</td>\n",
              "      <td>10.425779</td>\n",
              "    </tr>\n",
              "    <tr>\n",
              "      <th>...</th>\n",
              "      <td>...</td>\n",
              "      <td>...</td>\n",
              "    </tr>\n",
              "    <tr>\n",
              "      <th>8766</th>\n",
              "      <td>9.998889</td>\n",
              "      <td>10.728969</td>\n",
              "    </tr>\n",
              "    <tr>\n",
              "      <th>8767</th>\n",
              "      <td>9.998878</td>\n",
              "      <td>10.904827</td>\n",
              "    </tr>\n",
              "    <tr>\n",
              "      <th>8768</th>\n",
              "      <td>9.999027</td>\n",
              "      <td>11.000000</td>\n",
              "    </tr>\n",
              "    <tr>\n",
              "      <th>8769</th>\n",
              "      <td>9.998754</td>\n",
              "      <td>9.518246</td>\n",
              "    </tr>\n",
              "    <tr>\n",
              "      <th>8770</th>\n",
              "      <td>9.998682</td>\n",
              "      <td>10.125333</td>\n",
              "    </tr>\n",
              "  </tbody>\n",
              "</table>\n",
              "<p>8771 rows × 2 columns</p>\n",
              "</div>\n",
              "      <button class=\"colab-df-convert\" onclick=\"convertToInteractive('df-c91d8fec-718d-4503-b16f-6b203079861d')\"\n",
              "              title=\"Convert this dataframe to an interactive table.\"\n",
              "              style=\"display:none;\">\n",
              "        \n",
              "  <svg xmlns=\"http://www.w3.org/2000/svg\" height=\"24px\"viewBox=\"0 0 24 24\"\n",
              "       width=\"24px\">\n",
              "    <path d=\"M0 0h24v24H0V0z\" fill=\"none\"/>\n",
              "    <path d=\"M18.56 5.44l.94 2.06.94-2.06 2.06-.94-2.06-.94-.94-2.06-.94 2.06-2.06.94zm-11 1L8.5 8.5l.94-2.06 2.06-.94-2.06-.94L8.5 2.5l-.94 2.06-2.06.94zm10 10l.94 2.06.94-2.06 2.06-.94-2.06-.94-.94-2.06-.94 2.06-2.06.94z\"/><path d=\"M17.41 7.96l-1.37-1.37c-.4-.4-.92-.59-1.43-.59-.52 0-1.04.2-1.43.59L10.3 9.45l-7.72 7.72c-.78.78-.78 2.05 0 2.83L4 21.41c.39.39.9.59 1.41.59.51 0 1.02-.2 1.41-.59l7.78-7.78 2.81-2.81c.8-.78.8-2.07 0-2.86zM5.41 20L4 18.59l7.72-7.72 1.47 1.35L5.41 20z\"/>\n",
              "  </svg>\n",
              "      </button>\n",
              "      \n",
              "  <style>\n",
              "    .colab-df-container {\n",
              "      display:flex;\n",
              "      flex-wrap:wrap;\n",
              "      gap: 12px;\n",
              "    }\n",
              "\n",
              "    .colab-df-convert {\n",
              "      background-color: #E8F0FE;\n",
              "      border: none;\n",
              "      border-radius: 50%;\n",
              "      cursor: pointer;\n",
              "      display: none;\n",
              "      fill: #1967D2;\n",
              "      height: 32px;\n",
              "      padding: 0 0 0 0;\n",
              "      width: 32px;\n",
              "    }\n",
              "\n",
              "    .colab-df-convert:hover {\n",
              "      background-color: #E2EBFA;\n",
              "      box-shadow: 0px 1px 2px rgba(60, 64, 67, 0.3), 0px 1px 3px 1px rgba(60, 64, 67, 0.15);\n",
              "      fill: #174EA6;\n",
              "    }\n",
              "\n",
              "    [theme=dark] .colab-df-convert {\n",
              "      background-color: #3B4455;\n",
              "      fill: #D2E3FC;\n",
              "    }\n",
              "\n",
              "    [theme=dark] .colab-df-convert:hover {\n",
              "      background-color: #434B5C;\n",
              "      box-shadow: 0px 1px 3px 1px rgba(0, 0, 0, 0.15);\n",
              "      filter: drop-shadow(0px 1px 2px rgba(0, 0, 0, 0.3));\n",
              "      fill: #FFFFFF;\n",
              "    }\n",
              "  </style>\n",
              "\n",
              "      <script>\n",
              "        const buttonEl =\n",
              "          document.querySelector('#df-c91d8fec-718d-4503-b16f-6b203079861d button.colab-df-convert');\n",
              "        buttonEl.style.display =\n",
              "          google.colab.kernel.accessAllowed ? 'block' : 'none';\n",
              "\n",
              "        async function convertToInteractive(key) {\n",
              "          const element = document.querySelector('#df-c91d8fec-718d-4503-b16f-6b203079861d');\n",
              "          const dataTable =\n",
              "            await google.colab.kernel.invokeFunction('convertToInteractive',\n",
              "                                                     [key], {});\n",
              "          if (!dataTable) return;\n",
              "\n",
              "          const docLinkHtml = 'Like what you see? Visit the ' +\n",
              "            '<a target=\"_blank\" href=https://colab.research.google.com/notebooks/data_table.ipynb>data table notebook</a>'\n",
              "            + ' to learn more about interactive tables.';\n",
              "          element.innerHTML = '';\n",
              "          dataTable['output_type'] = 'display_data';\n",
              "          await google.colab.output.renderOutput(dataTable, element);\n",
              "          const docLink = document.createElement('div');\n",
              "          docLink.innerHTML = docLinkHtml;\n",
              "          element.appendChild(docLink);\n",
              "        }\n",
              "      </script>\n",
              "    </div>\n",
              "  </div>\n",
              "  "
            ]
          },
          "metadata": {},
          "execution_count": 84
        }
      ]
    },
    {
      "cell_type": "code",
      "source": [
        "print(\"Loss: \"  + str(mse(y_test, test_predictions)))\n",
        "print(\"RMSE: \"  + str(sqrt(mse(y_test, test_predictions))))"
      ],
      "metadata": {
        "id": "Uf39Jsx3eBge",
        "outputId": "197e66d0-a2a6-4712-c2f8-7a1c95829ea7",
        "colab": {
          "base_uri": "https://localhost:8080/"
        }
      },
      "execution_count": null,
      "outputs": [
        {
          "output_type": "stream",
          "name": "stdout",
          "text": [
            "Loss: 0.5050496789559312\n",
            "RMSE: 0.7106684733094125\n"
          ]
        }
      ]
    },
    {
      "cell_type": "code",
      "source": [
        "plt.plot(test_results['Test Predictions'][:50], label = 'Predictions')\n",
        "plt.plot(test_results['Actuals'][:50], label = 'Actual')\n",
        "plt.legend()"
      ],
      "metadata": {
        "colab": {
          "base_uri": "https://localhost:8080/",
          "height": 282
        },
        "id": "mZNO-tgtG5gg",
        "outputId": "145405a0-1178-417d-c736-580045ed4232"
      },
      "execution_count": null,
      "outputs": [
        {
          "output_type": "execute_result",
          "data": {
            "text/plain": [
              "<matplotlib.legend.Legend at 0x7f499dd97ed0>"
            ]
          },
          "metadata": {},
          "execution_count": 87
        },
        {
          "output_type": "display_data",
          "data": {
            "text/plain": [
              "<Figure size 432x288 with 1 Axes>"
            ],
            "image/png": "[encoded data removed]"
          },
          "metadata": {
            "needs_background": "light"
          }
        }
      ]
    },
    {
      "cell_type": "code",
      "source": [
        "!zip -r /content/model1.zip /content/model1"
      ],
      "metadata": {
        "id": "LbooQSgMG5iz",
        "colab": {
          "base_uri": "https://localhost:8080/"
        },
        "outputId": "9a8fd00a-432d-4cf1-aaee-93943ed546b5"
      },
      "execution_count": null,
      "outputs": [
        {
          "output_type": "stream",
          "name": "stdout",
          "text": [
            "  adding: content/model1/ (stored 0%)\n",
            "  adding: content/model1/variables/ (stored 0%)\n",
            "  adding: content/model1/variables/variables.index (deflated 61%)\n",
            "  adding: content/model1/variables/variables.data-00000-of-00001 (deflated 25%)\n",
            "  adding: content/model1/saved_model.pb (deflated 90%)\n",
            "  adding: content/model1/assets/ (stored 0%)\n",
            "  adding: content/model1/keras_metadata.pb (deflated 85%)\n"
          ]
        }
      ]
    }
  ]
}