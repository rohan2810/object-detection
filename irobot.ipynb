{
 "cells": [
  {
   "cell_type": "code",
   "execution_count": 1,
   "id": "5813e45b-cb44-40ab-b153-e3d264c06d66",
   "metadata": {},
   "outputs": [
    {
     "name": "stdout",
     "output_type": "stream",
     "text": [
      "Collecting pycreate2\n",
      "  Downloading pycreate2-0.8.0-py3-none-any.whl (18 kB)\n",
      "Collecting simplejson\n",
      "  Downloading simplejson-3.17.6-cp39-cp39-win_amd64.whl (75 kB)\n",
      "     ---------------------------------------- 75.8/75.8 KB 2.1 MB/s eta 0:00:00\n",
      "Requirement already satisfied: colorama in c:\\users\\surya\\appdata\\local\\programs\\python\\python39\\lib\\site-packages (from pycreate2) (0.4.4)\n",
      "Collecting pyserial<4.0,>=3.4\n",
      "  Downloading pyserial-3.5-py2.py3-none-any.whl (90 kB)\n",
      "     ---------------------------------------- 90.6/90.6 KB 5.4 MB/s eta 0:00:00\n",
      "Installing collected packages: pyserial, simplejson, pycreate2\n",
      "Successfully installed pycreate2-0.8.0 pyserial-3.5 simplejson-3.17.6\n"
     ]
    }
   ],
   "source": [
    "!pip install pycreate2"
   ]
  },
  {
   "cell_type": "code",
   "execution_count": 66,
   "id": "89f27a9c-c9e7-4fe4-9cbf-8fbfcf8af064",
   "metadata": {},
   "outputs": [
    {
     "name": "stderr",
     "output_type": "stream",
     "text": [
      "Exception ignored in: <function Create2.__del__ at 0x000002A31B98D0D0>\n",
      "Traceback (most recent call last):\n",
      "  File \"C:\\Users\\surya\\AppData\\Local\\Programs\\Python\\Python39\\lib\\site-packages\\pycreate2\\create2api.py\", line 40, in __del__\n",
      "    self.drive_stop()\n",
      "  File \"C:\\Users\\surya\\AppData\\Local\\Programs\\Python\\Python39\\lib\\site-packages\\pycreate2\\create2api.py\", line 162, in drive_stop\n",
      "    self.drive_direct(0,0)\n",
      "  File \"C:\\Users\\surya\\AppData\\Local\\Programs\\Python\\Python39\\lib\\site-packages\\pycreate2\\create2api.py\", line 219, in drive_direct\n",
      "    self.SCI.write(OPCODES.DRIVE_DIRECT, data)\n",
      "  File \"C:\\Users\\surya\\AppData\\Local\\Programs\\Python\\Python39\\lib\\site-packages\\pycreate2\\createSerial.py\", line 73, in write\n",
      "    self.ser.write(struct.pack('B' * len(msg), *msg))\n",
      "  File \"C:\\Users\\surya\\AppData\\Local\\Programs\\Python\\Python39\\lib\\site-packages\\serial\\serialwin32.py\", line 306, in write\n",
      "    raise PortNotOpenError()\n",
      "serial.serialutil.PortNotOpenError: Attempting to use a port that is not open\n"
     ]
    },
    {
     "name": "stdout",
     "output_type": "stream",
     "text": [
      "----------------------------------------\n",
      " Create opened serial connection\n",
      "   port: COM5\n",
      "   datarate: 115200 bps\n",
      "----------------------------------------\n",
      "Closing port COM5 @ 115200\n"
     ]
    }
   ],
   "source": [
    "from  pycreate2 import Create2\n",
    "import time\n",
    "\n",
    "port = \"COM5\" \n",
    "bot = Create2(port)\n",
    "\n",
    "bot.start()\n",
    "\n",
    "bot.full()\n",
    "\n",
    "bot.drive_direct(100, 100)\n",
    "\n",
    "# bot.drive_stop()\n",
    "\n",
    "bot.close()"
   ]
  },
  {
   "cell_type": "code",
   "execution_count": 65,
   "id": "3ed86451-12bd-4aed-a588-e4fedd83bcbe",
   "metadata": {},
   "outputs": [
    {
     "name": "stderr",
     "output_type": "stream",
     "text": [
      "Exception ignored in: <function Create2.__del__ at 0x000002A31B98D0D0>\n",
      "Traceback (most recent call last):\n",
      "  File \"C:\\Users\\surya\\AppData\\Local\\Programs\\Python\\Python39\\lib\\site-packages\\pycreate2\\create2api.py\", line 40, in __del__\n",
      "    self.drive_stop()\n",
      "  File \"C:\\Users\\surya\\AppData\\Local\\Programs\\Python\\Python39\\lib\\site-packages\\pycreate2\\create2api.py\", line 162, in drive_stop\n",
      "    self.drive_direct(0,0)\n",
      "  File \"C:\\Users\\surya\\AppData\\Local\\Programs\\Python\\Python39\\lib\\site-packages\\pycreate2\\create2api.py\", line 219, in drive_direct\n",
      "    self.SCI.write(OPCODES.DRIVE_DIRECT, data)\n",
      "  File \"C:\\Users\\surya\\AppData\\Local\\Programs\\Python\\Python39\\lib\\site-packages\\pycreate2\\createSerial.py\", line 73, in write\n",
      "    self.ser.write(struct.pack('B' * len(msg), *msg))\n",
      "  File \"C:\\Users\\surya\\AppData\\Local\\Programs\\Python\\Python39\\lib\\site-packages\\serial\\serialwin32.py\", line 306, in write\n",
      "    raise PortNotOpenError()\n",
      "serial.serialutil.PortNotOpenError: Attempting to use a port that is not open\n"
     ]
    },
    {
     "name": "stdout",
     "output_type": "stream",
     "text": [
      "----------------------------------------\n",
      " Create opened serial connection\n",
      "   port: COM5\n",
      "   datarate: 115200 bps\n",
      "----------------------------------------\n",
      "Closing port COM5 @ 115200\n"
     ]
    }
   ],
   "source": [
    "from  pycreate2 import Create2\n",
    "import time\n",
    "\n",
    "# Create a Create2.\n",
    "port = \"COM5\" \n",
    "bot = Create2(port)\n",
    "\n",
    "# Start the Create 2\n",
    "bot.start()\n",
    "\n",
    "bot.full()\n",
    "\n",
    "# bot.drive_direct(53, 55)\n",
    "\n",
    "bot.drive_stop()\n",
    "\n",
    "bot.close()"
   ]
  },
  {
   "cell_type": "code",
   "execution_count": null,
   "id": "e397e954-6bff-48fe-92ad-2160a44be86e",
   "metadata": {},
   "outputs": [],
   "source": []
  }
 ],
 "metadata": {
  "kernelspec": {
   "display_name": "Python 3 (ipykernel)",
   "language": "python",
   "name": "python3"
  },
  "language_info": {
   "codemirror_mode": {
    "name": "ipython",
    "version": 3
   },
   "file_extension": ".py",
   "mimetype": "text/x-python",
   "name": "python",
   "nbconvert_exporter": "python",
   "pygments_lexer": "ipython3",
   "version": "3.9.10"
  }
 },
 "nbformat": 4,
 "nbformat_minor": 5
}
