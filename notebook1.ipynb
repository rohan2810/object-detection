{
 "cells": [
  {
   "cell_type": "code",
   "execution_count": 2,
   "metadata": {
    "collapsed": true
   },
   "outputs": [],
   "source": [
    "import torch\n",
    "from matplotlib import pyplot as plt\n",
    "import numpy as np\n",
    "import cv2\n",
    "import uuid\n",
    "import os\n",
    "import time\n"
   ]
  },
  {
   "cell_type": "code",
   "execution_count": 8,
   "outputs": [],
   "source": [
    "IMAGES_PATH = os.path.join('data', 'images')\n",
    "labels = ['in_frame', 'partial_frame']\n",
    "number_imgs = 172"
   ],
   "metadata": {
    "collapsed": false,
    "pycharm": {
     "name": "#%%\n"
    }
   }
  },
  {
   "cell_type": "code",
   "execution_count": 3,
   "outputs": [
    {
     "name": "stdout",
     "output_type": "stream",
     "text": [
      "Cloning into 'labelImg'...\r\n",
      "remote: Enumerating objects: 1975, done.\u001B[K\r\n",
      "remote: Counting objects: 100% (214/214), done.\u001B[K\r\n",
      "remote: Compressing objects: 100% (145/145), done.\u001B[K\r\n",
      "remote: Total 1975 (delta 115), reused 132 (delta 61), pack-reused 1761\u001B[Kjects:  72% (1433/1975), 130.40 MiB | 1.56 MiB/sReceiving objects:  72% (1433/1975), 131.43 MiB | 1.26 MiB/sReceiving objects:  72% (1433/1975), 133.31 MiB | 723.00 KiB/sReceiving objects:  72% (1433/1975), 135.25 MiB | 873.00 KiB/sReceiving objects:  72% (1433/1975), 137.55 MiB | 1.12 MiB/sReceiving objects:  72% (1433/1975), 142.72 MiB | 1.64 MiB/sReceiving objects:  72% (1433/1975), 144.39 MiB | 1.54 MiB/sReceiving objects:  72% (1433/1975), 145.19 MiB | 1.34 MiB/sReceiving objects:  72% (1438/1975), 148.04 MiB | 966.00 KiB/sReceiving objects:  72% (1438/1975), 150.48 MiB | 1.12 MiB/s  Receiving objects:  72% (1438/1975), 151.52 MiB | 1.02 MiB/sReceiving objects:  72% (1438/1975), 155.06 MiB | 1.15 MiB/sReceiving objects:  72% (1438/1975), 157.42 MiB | 1.29 MiB/sReceiving objects:  72% (1439/1975), 159.64 MiB | 1.10 MiB/sReceiving objects:  72% (1440/1975), 161.72 MiB | 1.15 MiB/sReceiving objects:  72% (1441/1975), 164.50 MiB | 1.22 MiB/sReceiving objects:  72% (1441/1975), 168.09 MiB | 1.46 MiB/sReceiving objects:  73% (1442/1975), 171.37 MiB | 1.49 MiB/sReceiving objects:  73% (1442/1975), 173.46 MiB | 1.87 MiB/sReceiving objects:  73% (1442/1975), 176.30 MiB | 1.41 MiB/sReceiving objects:  73% (1442/1975), 178.83 MiB | 1.23 MiB/sReceiving objects:  73% (1442/1975), 181.28 MiB | 1.25 MiB/sReceiving objects:  73% (1444/1975), 189.54 MiB | 2.47 MiB/sReceiving objects:  74% (1462/1975), 191.41 MiB | 2.73 MiB/sReceiving objects:  74% (1467/1975), 195.16 MiB | 2.85 MiB/sReceiving objects:  74% (1467/1975), 199.02 MiB | 1.87 MiB/sReceiving objects:  74% (1467/1975), 203.11 MiB | 1.88 MiB/sReceiving objects:  74% (1467/1975), 203.49 MiB | 1.36 MiB/sReceiving objects:  74% (1467/1975), 209.27 MiB | 1.54 MiB/sReceiving objects:  74% (1467/1975), 212.97 MiB | 1.92 MiB/sReceiving objects:  74% (1467/1975), 217.15 MiB | 2.35 MiB/sReceiving objects:  74% (1467/1975), 221.14 MiB | 1.91 MiB/sReceiving objects:  74% (1467/1975), 224.30 MiB | 1.78 MiB/sReceiving objects:  74% (1468/1975), 227.46 MiB | 1.83 MiB/sReceiving objects:  76% (1501/1975), 227.46 MiB | 1.83 MiB/sReceiving objects:  80% (1580/1975), 227.46 MiB | 1.83 MiB/sReceiving objects:  85% (1679/1975), 230.77 MiB | 2.25 MiB/sReceiving objects:  87% (1723/1975), 232.74 MiB | 2.28 MiB/s\r\n",
      "Receiving objects: 100% (1975/1975), 232.85 MiB | 1.72 MiB/s, done.\r\n",
      "Resolving deltas: 100% (1162/1162), done.\r\n"
     ]
    }
   ],
   "source": [
    "\n",
    "!git clone https://github.com/tzutalin/labelImg"
   ],
   "metadata": {
    "collapsed": false,
    "pycharm": {
     "name": "#%%\n"
    }
   }
  },
  {
   "cell_type": "code",
   "execution_count": 9,
   "outputs": [
    {
     "name": "stdout",
     "output_type": "stream",
     "text": [
      "Requirement already satisfied: pyqt5 in ./venv/lib/python3.8/site-packages (5.15.6)\r\n",
      "Requirement already satisfied: lxml in ./venv/lib/python3.8/site-packages (4.8.0)\r\n",
      "Requirement already satisfied: PyQt5-Qt5>=5.15.2 in ./venv/lib/python3.8/site-packages (from pyqt5) (5.15.2)\r\n",
      "Requirement already satisfied: PyQt5-sip<13,>=12.8 in ./venv/lib/python3.8/site-packages (from pyqt5) (12.9.1)\r\n",
      "/media/rohan/libraries/PycharmProjects/pythonProject1/venv/bin/pyrcc5: File does not exist 'resources.qrc'\r\n",
      "Requirement already satisfied: wandb in ./venv/lib/python3.8/site-packages (0.12.11)\r\n",
      "Requirement already satisfied: GitPython>=1.0.0 in ./venv/lib/python3.8/site-packages (from wandb) (3.1.27)\r\n",
      "Requirement already satisfied: six>=1.13.0 in ./venv/lib/python3.8/site-packages (from wandb) (1.16.0)\r\n",
      "Requirement already satisfied: requests<3,>=2.0.0 in ./venv/lib/python3.8/site-packages (from wandb) (2.27.1)\r\n",
      "Requirement already satisfied: python-dateutil>=2.6.1 in ./venv/lib/python3.8/site-packages (from wandb) (2.8.2)\r\n",
      "Requirement already satisfied: setproctitle in ./venv/lib/python3.8/site-packages (from wandb) (1.2.2)\r\n",
      "Requirement already satisfied: PyYAML in ./venv/lib/python3.8/site-packages (from wandb) (6.0)\r\n",
      "Requirement already satisfied: promise<3,>=2.0 in ./venv/lib/python3.8/site-packages (from wandb) (2.3)\r\n",
      "Requirement already satisfied: psutil>=5.0.0 in ./venv/lib/python3.8/site-packages (from wandb) (5.9.0)\r\n",
      "Requirement already satisfied: protobuf>=3.12.0 in ./venv/lib/python3.8/site-packages (from wandb) (3.19.4)\r\n",
      "Requirement already satisfied: shortuuid>=0.5.0 in ./venv/lib/python3.8/site-packages (from wandb) (1.0.8)\r\n",
      "Requirement already satisfied: Click!=8.0.0,>=7.0 in ./venv/lib/python3.8/site-packages (from wandb) (8.0.4)\r\n",
      "Requirement already satisfied: sentry-sdk>=1.0.0 in ./venv/lib/python3.8/site-packages (from wandb) (1.5.7)\r\n",
      "Requirement already satisfied: yaspin>=1.0.0 in ./venv/lib/python3.8/site-packages (from wandb) (2.1.0)\r\n",
      "Requirement already satisfied: docker-pycreds>=0.4.0 in ./venv/lib/python3.8/site-packages (from wandb) (0.4.0)\r\n",
      "Requirement already satisfied: pathtools in ./venv/lib/python3.8/site-packages (from wandb) (0.1.2)\r\n",
      "Requirement already satisfied: gitdb<5,>=4.0.1 in ./venv/lib/python3.8/site-packages (from GitPython>=1.0.0->wandb) (4.0.9)\r\n",
      "Requirement already satisfied: certifi>=2017.4.17 in ./venv/lib/python3.8/site-packages (from requests<3,>=2.0.0->wandb) (2021.10.8)\r\n",
      "Requirement already satisfied: idna<4,>=2.5 in ./venv/lib/python3.8/site-packages (from requests<3,>=2.0.0->wandb) (3.3)\r\n",
      "Requirement already satisfied: charset-normalizer~=2.0.0 in ./venv/lib/python3.8/site-packages (from requests<3,>=2.0.0->wandb) (2.0.12)\r\n",
      "Requirement already satisfied: urllib3<1.27,>=1.21.1 in ./venv/lib/python3.8/site-packages (from requests<3,>=2.0.0->wandb) (1.26.9)\r\n",
      "Requirement already satisfied: termcolor<2.0.0,>=1.1.0 in ./venv/lib/python3.8/site-packages (from yaspin>=1.0.0->wandb) (1.1.0)\r\n",
      "Requirement already satisfied: smmap<6,>=3.0.1 in ./venv/lib/python3.8/site-packages (from gitdb<5,>=4.0.1->GitPython>=1.0.0->wandb) (5.0.0)\r\n"
     ]
    }
   ],
   "source": [
    "!cd labelImg\n",
    "!pip install pyqt5 lxml --upgrade\n",
    "!pyrcc5 -o libs/resources.py resources.qrc\n",
    "!cd ..\n",
    "!cd yolov5\n",
    "!pip3 install wandb"
   ],
   "metadata": {
    "collapsed": false,
    "pycharm": {
     "name": "#%%\n"
    }
   }
  },
  {
   "cell_type": "code",
   "execution_count": 19,
   "outputs": [
    {
     "name": "stderr",
     "output_type": "stream",
     "text": [
      "Downloading: \"https://github.com/ultralytics/yolov5/archive/master.zip\" to /home/rohan/.cache/torch/hub/master.zip\n",
      "fatal: not a git repository (or any of the parent directories): .git\n",
      "YOLOv5 🚀 2022-3-16 torch 1.11.0+cu102 CPU\n",
      "\n"
     ]
    },
    {
     "name": "stdout",
     "output_type": "stream",
     "text": [
      "Downloading https://github.com/ultralytics/yolov5/releases/download/v6.1/yolov5s.pt to yolov5s.pt...\n"
     ]
    },
    {
     "data": {
      "text/plain": "  0%|          | 0.00/14.1M [00:00<?, ?B/s]",
      "application/vnd.jupyter.widget-view+json": {
       "version_major": 2,
       "version_minor": 0,
       "model_id": "00406bec25be47b7bd4bdc49d0df97b1"
      }
     },
     "metadata": {},
     "output_type": "display_data"
    },
    {
     "name": "stderr",
     "output_type": "stream",
     "text": [
      "Fusing layers... \n",
      "Model Summary: 213 layers, 7225885 parameters, 0 gradients\n",
      "Adding AutoShape... \n"
     ]
    },
    {
     "name": "stdout",
     "output_type": "stream",
     "text": [
      "\n"
     ]
    }
   ],
   "source": [
    "model = torch.hub.load('ultralytics/yolov5', 'yolov5s')"
   ],
   "metadata": {
    "collapsed": false,
    "pycharm": {
     "name": "#%%\n"
    }
   }
  },
  {
   "cell_type": "code",
   "execution_count": null,
   "outputs": [
    {
     "name": "stdout",
     "output_type": "stream",
     "text": [
      "\u001B[34m\u001B[1mwandb\u001B[0m: (1) Create a W&B account\r\n",
      "\u001B[34m\u001B[1mwandb\u001B[0m: (2) Use an existing W&B account\r\n",
      "\u001B[34m\u001B[1mwandb\u001B[0m: (3) Don't visualize my results\r\n",
      "\u001B[34m\u001B[1mwandb\u001B[0m: Enter your choice: (30 second timeout) \r\n",
      "\u001B[34m\u001B[1mwandb\u001B[0m: W&B disabled due to login timeout.\r\n",
      "\u001B[34m\u001B[1mtrain: \u001B[0mweights=yolov5/yolov5s.pt, cfg=, data=yolov5/dataset.yml, hyp=yolov5/data/hyps/hyp.scratch-low.yaml, epochs=500, batch_size=16, imgsz=320, rect=False, resume=False, nosave=False, noval=False, noautoanchor=False, evolve=None, bucket=, cache=None, image_weights=False, device=, multi_scale=False, single_cls=False, optimizer=SGD, sync_bn=False, workers=2, project=yolov5/runs/train, name=exp, exist_ok=False, quad=False, cos_lr=False, label_smoothing=0.0, patience=100, freeze=[0], save_period=-1, local_rank=-1, entity=None, upload_dataset=False, bbox_interval=-1, artifact_alias=latest\r\n",
      "\u001B[34m\u001B[1mgithub: \u001B[0m⚠️ YOLOv5 is out of date by 14 commits. Use `git pull` or `git clone https://github.com/ultralytics/yolov5` to update.\r\n",
      "YOLOv5 🚀 v6.1-38-gd640470 torch 1.11.0+cu102 CPU\r\n",
      "\r\n",
      "\u001B[34m\u001B[1mhyperparameters: \u001B[0mlr0=0.01, lrf=0.01, momentum=0.937, weight_decay=0.0005, warmup_epochs=3.0, warmup_momentum=0.8, warmup_bias_lr=0.1, box=0.05, cls=0.5, cls_pw=1.0, obj=1.0, obj_pw=1.0, iou_t=0.2, anchor_t=4.0, fl_gamma=0.0, hsv_h=0.015, hsv_s=0.7, hsv_v=0.4, degrees=0.0, translate=0.1, scale=0.5, shear=0.0, perspective=0.0, flipud=0.0, fliplr=0.5, mosaic=1.0, mixup=0.0, copy_paste=0.0\r\n",
      "\u001B[34m\u001B[1mWeights & Biases: \u001B[0mrun 'pip install wandb' to automatically track and visualize YOLOv5 🚀 runs (RECOMMENDED)\r\n",
      "\u001B[34m\u001B[1mTensorBoard: \u001B[0mStart with 'tensorboard --logdir yolov5/runs/train', view at http://localhost:6006/\r\n",
      "Overriding model.yaml nc=80 with nc=16\r\n",
      "\r\n",
      "                 from  n    params  module                                  arguments                     \r\n",
      "  0                -1  1      3520  models.common.Conv                      [3, 32, 6, 2, 2]              \r\n",
      "  1                -1  1     18560  models.common.Conv                      [32, 64, 3, 2]                \r\n",
      "  2                -1  1     18816  models.common.C3                        [64, 64, 1]                   \r\n",
      "  3                -1  1     73984  models.common.Conv                      [64, 128, 3, 2]               \r\n",
      "  4                -1  2    115712  models.common.C3                        [128, 128, 2]                 \r\n",
      "  5                -1  1    295424  models.common.Conv                      [128, 256, 3, 2]              \r\n",
      "  6                -1  3    625152  models.common.C3                        [256, 256, 3]                 \r\n",
      "  7                -1  1   1180672  models.common.Conv                      [256, 512, 3, 2]              \r\n",
      "  8                -1  1   1182720  models.common.C3                        [512, 512, 1]                 \r\n",
      "  9                -1  1    656896  models.common.SPPF                      [512, 512, 5]                 \r\n",
      " 10                -1  1    131584  models.common.Conv                      [512, 256, 1, 1]              \r\n",
      " 11                -1  1         0  torch.nn.modules.upsampling.Upsample    [None, 2, 'nearest']          \r\n",
      " 12           [-1, 6]  1         0  models.common.Concat                    [1]                           \r\n",
      " 13                -1  1    361984  models.common.C3                        [512, 256, 1, False]          \r\n",
      " 14                -1  1     33024  models.common.Conv                      [256, 128, 1, 1]              \r\n",
      " 15                -1  1         0  torch.nn.modules.upsampling.Upsample    [None, 2, 'nearest']          \r\n",
      " 16           [-1, 4]  1         0  models.common.Concat                    [1]                           \r\n",
      " 17                -1  1     90880  models.common.C3                        [256, 128, 1, False]          \r\n",
      " 18                -1  1    147712  models.common.Conv                      [128, 128, 3, 2]              \r\n",
      " 19          [-1, 14]  1         0  models.common.Concat                    [1]                           \r\n",
      " 20                -1  1    296448  models.common.C3                        [256, 256, 1, False]          \r\n",
      " 21                -1  1    590336  models.common.Conv                      [256, 256, 3, 2]              \r\n",
      " 22          [-1, 10]  1         0  models.common.Concat                    [1]                           \r\n",
      " 23                -1  1   1182720  models.common.C3                        [512, 512, 1, False]          \r\n",
      " 24      [17, 20, 23]  1     56637  models.yolo.Detect                      [16, [[10, 13, 16, 30, 33, 23], [30, 61, 62, 45, 59, 119], [116, 90, 156, 198, 373, 326]], [128, 256, 512]]\r\n",
      "Model Summary: 270 layers, 7062781 parameters, 7062781 gradients, 16.0 GFLOPs\r\n",
      "\r\n",
      "Transferred 343/349 items from yolov5/yolov5s.pt\r\n",
      "Scaled weight_decay = 0.0005\r\n",
      "\u001B[34m\u001B[1moptimizer:\u001B[0m SGD with parameter groups 57 weight (no decay), 60 weight, 60 bias\r\n",
      "\u001B[34m\u001B[1mtrain: \u001B[0mScanning '/media/rohan/libraries/PycharmProjects/pythonProject1/data/labe\u001B[0m\r\n",
      "\u001B[34m\u001B[1mval: \u001B[0mScanning '/media/rohan/libraries/PycharmProjects/pythonProject1/data/labels\u001B[0m\r\n",
      "Plotting labels to yolov5/runs/train/exp2/labels.jpg... \r\n",
      "\r\n",
      "\u001B[34m\u001B[1mAutoAnchor: \u001B[0m5.58 anchors/target, 1.000 Best Possible Recall (BPR). Current anchors are a good fit to dataset ✅\r\n",
      "Image sizes 320 train, 320 val\r\n",
      "Using 2 dataloader workers\r\n",
      "Logging results to \u001B[1myolov5/runs/train/exp2\u001B[0m\r\n",
      "Starting training for 500 epochs...\r\n",
      "\r\n",
      "     Epoch   gpu_mem       box       obj       cls    labels  img_size\r\n",
      "     0/499        0G    0.1254    0.0128   0.07407        21       320: 100%|███\r\n",
      "               Class     Images     Labels          P          R     mAP@.5 mAP@\r\n",
      "                 all        172        172    0.00961     0.0523    0.00426   0.000973\r\n",
      "\r\n",
      "     Epoch   gpu_mem       box       obj       cls    labels  img_size\r\n",
      "     1/499        0G    0.1224   0.01306   0.06755        30       320:   9%|▉  "
     ]
    }
   ],
   "source": [
    "\n",
    "!python3 yolov5/train.py --img 320 --batch 16 --epochs 500 --data yolov5/dataset.yml --weights yolov5/yolov5s.pt --workers 2"
   ],
   "metadata": {
    "collapsed": false,
    "pycharm": {
     "name": "#%%\n",
     "is_executing": true
    }
   }
  },
  {
   "cell_type": "code",
   "execution_count": 6,
   "outputs": [
    {
     "name": "stderr",
     "output_type": "stream",
     "text": [
      "Downloading: \"https://github.com/ultralytics/yolov5/archive/master.zip\" to /home/rohan/.cache/torch/hub/master.zip\n",
      "fatal: not a git repository (or any of the parent directories): .git\n",
      "YOLOv5 🚀 2022-3-21 torch 1.11.0+cu102 CPU\n",
      "\n",
      "Fusing layers... \n",
      "Model Summary: 213 layers, 7058671 parameters, 0 gradients, 15.9 GFLOPs\n",
      "Adding AutoShape... \n"
     ]
    }
   ],
   "source": [
    "model = torch.hub.load('ultralytics/yolov5', 'custom', path='yolov5/runs/train/exp/weights/last.pt', force_reload=True)"
   ],
   "metadata": {
    "collapsed": false,
    "pycharm": {
     "name": "#%%\n"
    }
   }
  },
  {
   "cell_type": "code",
   "execution_count": 7,
   "outputs": [
    {
     "ename": "KeyboardInterrupt",
     "evalue": "",
     "output_type": "error",
     "traceback": [
      "\u001B[0;31m---------------------------------------------------------------------------\u001B[0m",
      "\u001B[0;31mKeyboardInterrupt\u001B[0m                         Traceback (most recent call last)",
      "Input \u001B[0;32mIn [7]\u001B[0m, in \u001B[0;36m<cell line: 4>\u001B[0;34m()\u001B[0m\n\u001B[1;32m      7\u001B[0m results \u001B[38;5;241m=\u001B[39m model(frame)\n\u001B[1;32m     10\u001B[0m cv2\u001B[38;5;241m.\u001B[39mimshow(\u001B[38;5;124m'\u001B[39m\u001B[38;5;124mYOLO\u001B[39m\u001B[38;5;124m'\u001B[39m, np\u001B[38;5;241m.\u001B[39msqueeze(results\u001B[38;5;241m.\u001B[39mrender()))\n\u001B[0;32m---> 12\u001B[0m key \u001B[38;5;241m=\u001B[39m \u001B[43mcv2\u001B[49m\u001B[38;5;241;43m.\u001B[39;49m\u001B[43mwaitKey\u001B[49m\u001B[43m(\u001B[49m\u001B[38;5;241;43m30\u001B[39;49m\u001B[43m)\u001B[49m\n\u001B[1;32m     13\u001B[0m \u001B[38;5;28;01mif\u001B[39;00m key \u001B[38;5;241m==\u001B[39m \u001B[38;5;241m27\u001B[39m:\n\u001B[1;32m     14\u001B[0m     \u001B[38;5;28;01mbreak\u001B[39;00m\n",
      "\u001B[0;31mKeyboardInterrupt\u001B[0m: "
     ]
    }
   ],
   "source": [
    "cap = cv2.VideoCapture(\"/media/rohan/libraries/PycharmProjects/pythonProject1/video2.mp4\")\n",
    "cap.set(cv2.CAP_PROP_FRAME_HEIGHT, -60)\n",
    "cap.set(cv2.CAP_PROP_FRAME_WIDTH, -30)\n",
    "while cap.isOpened():\n",
    "    ret, frame = cap.read()\n",
    "\n",
    "    results = model(frame)\n",
    "\n",
    "\n",
    "    cv2.imshow('YOLO', np.squeeze(results.render()))\n",
    "\n",
    "    key = cv2.waitKey(30)\n",
    "    if key == 27:\n",
    "        break\n",
    "\n",
    "cap.release()\n",
    "cv2.destroyAllWindows()"
   ],
   "metadata": {
    "collapsed": false,
    "pycharm": {
     "name": "#%%\n"
    }
   }
  },
  {
   "cell_type": "code",
   "execution_count": null,
   "outputs": [],
   "source": [],
   "metadata": {
    "collapsed": false,
    "pycharm": {
     "name": "#%%\n"
    }
   }
  },
  {
   "cell_type": "code",
   "execution_count": null,
   "outputs": [],
   "source": [],
   "metadata": {
    "collapsed": false,
    "pycharm": {
     "name": "#%%\n"
    }
   }
  }
 ],
 "metadata": {
  "kernelspec": {
   "display_name": "Python 3",
   "language": "python",
   "name": "python3"
  },
  "language_info": {
   "codemirror_mode": {
    "name": "ipython",
    "version": 2
   },
   "file_extension": ".py",
   "mimetype": "text/x-python",
   "name": "python",
   "nbconvert_exporter": "python",
   "pygments_lexer": "ipython2",
   "version": "2.7.6"
  }
 },
 "nbformat": 4,
 "nbformat_minor": 0
}