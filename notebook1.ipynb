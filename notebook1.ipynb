{
 "cells": [
  {
   "cell_type": "code",
   "execution_count": 12,
   "metadata": {
    "collapsed": true
   },
   "outputs": [],
   "source": [
    "import torch\n",
    "from matplotlib import pyplot as plt\n",
    "import numpy as np\n",
    "import cv2\n",
    "import uuid\n",
    "import os\n",
    "import time"
   ]
  },
  {
   "cell_type": "code",
   "execution_count": 13,
   "outputs": [],
   "source": [
    "IMAGES_PATH = os.path.join('data', 'images')\n",
    "labels = ['in_frame', 'partial_frame']\n",
    "number_imgs = 172"
   ],
   "metadata": {
    "collapsed": false,
    "pycharm": {
     "name": "#%%\n"
    }
   }
  },
  {
   "cell_type": "code",
   "execution_count": 14,
   "outputs": [
    {
     "name": "stdout",
     "output_type": "stream",
     "text": [
      "Requirement already satisfied: pyqt5 in ./venv/lib/python3.8/site-packages (5.15.6)\r\n",
      "Requirement already satisfied: lxml in ./venv/lib/python3.8/site-packages (4.8.0)\r\n",
      "Requirement already satisfied: PyQt5-sip<13,>=12.8 in ./venv/lib/python3.8/site-packages (from pyqt5) (12.9.1)\r\n",
      "Requirement already satisfied: PyQt5-Qt5>=5.15.2 in ./venv/lib/python3.8/site-packages (from pyqt5) (5.15.2)\r\n",
      "/media/rohan/libraries/PycharmProjects/pythonProject1/venv/bin/pyrcc5: File does not exist 'resources.qrc'\r\n",
      "/bin/bash: line 0: cd: yolov5: No such file or directory\r\n",
      "Requirement already satisfied: wandb in ./venv/lib/python3.8/site-packages (0.12.11)\r\n",
      "Requirement already satisfied: Click!=8.0.0,>=7.0 in ./venv/lib/python3.8/site-packages (from wandb) (8.0.4)\r\n",
      "Requirement already satisfied: docker-pycreds>=0.4.0 in ./venv/lib/python3.8/site-packages (from wandb) (0.4.0)\r\n",
      "Requirement already satisfied: promise<3,>=2.0 in ./venv/lib/python3.8/site-packages (from wandb) (2.3)\r\n",
      "Requirement already satisfied: requests<3,>=2.0.0 in ./venv/lib/python3.8/site-packages (from wandb) (2.27.1)\r\n",
      "Requirement already satisfied: GitPython>=1.0.0 in ./venv/lib/python3.8/site-packages (from wandb) (3.1.27)\r\n",
      "Requirement already satisfied: yaspin>=1.0.0 in ./venv/lib/python3.8/site-packages (from wandb) (2.1.0)\r\n",
      "Requirement already satisfied: six>=1.13.0 in ./venv/lib/python3.8/site-packages (from wandb) (1.16.0)\r\n",
      "Requirement already satisfied: protobuf>=3.12.0 in ./venv/lib/python3.8/site-packages (from wandb) (3.19.4)\r\n",
      "Requirement already satisfied: shortuuid>=0.5.0 in ./venv/lib/python3.8/site-packages (from wandb) (1.0.8)\r\n",
      "Requirement already satisfied: setproctitle in ./venv/lib/python3.8/site-packages (from wandb) (1.2.2)\r\n",
      "Requirement already satisfied: pathtools in ./venv/lib/python3.8/site-packages (from wandb) (0.1.2)\r\n",
      "Requirement already satisfied: PyYAML in ./venv/lib/python3.8/site-packages (from wandb) (6.0)\r\n",
      "Requirement already satisfied: psutil>=5.0.0 in ./venv/lib/python3.8/site-packages (from wandb) (5.9.0)\r\n",
      "Requirement already satisfied: sentry-sdk>=1.0.0 in ./venv/lib/python3.8/site-packages (from wandb) (1.5.7)\r\n",
      "Requirement already satisfied: python-dateutil>=2.6.1 in ./venv/lib/python3.8/site-packages (from wandb) (2.8.2)\r\n",
      "Requirement already satisfied: gitdb<5,>=4.0.1 in ./venv/lib/python3.8/site-packages (from GitPython>=1.0.0->wandb) (4.0.9)\r\n",
      "Requirement already satisfied: urllib3<1.27,>=1.21.1 in ./venv/lib/python3.8/site-packages (from requests<3,>=2.0.0->wandb) (1.26.9)\r\n",
      "Requirement already satisfied: certifi>=2017.4.17 in ./venv/lib/python3.8/site-packages (from requests<3,>=2.0.0->wandb) (2021.10.8)\r\n",
      "Requirement already satisfied: charset-normalizer~=2.0.0 in ./venv/lib/python3.8/site-packages (from requests<3,>=2.0.0->wandb) (2.0.12)\r\n",
      "Requirement already satisfied: idna<4,>=2.5 in ./venv/lib/python3.8/site-packages (from requests<3,>=2.0.0->wandb) (3.3)\r\n",
      "Requirement already satisfied: termcolor<2.0.0,>=1.1.0 in ./venv/lib/python3.8/site-packages (from yaspin>=1.0.0->wandb) (1.1.0)\r\n",
      "Requirement already satisfied: smmap<6,>=3.0.1 in ./venv/lib/python3.8/site-packages (from gitdb<5,>=4.0.1->GitPython>=1.0.0->wandb) (5.0.0)\r\n"
     ]
    }
   ],
   "source": [
    "!cd labelImg\n",
    "!pip install pyqt5 lxml --upgrade\n",
    "!pyrcc5 -o libs/resources.py resources.qrc\n",
    "!cd ..\n",
    "!cd yolov5\n",
    "!pip3 install wandb"
   ],
   "metadata": {
    "collapsed": false,
    "pycharm": {
     "name": "#%%\n"
    }
   }
  },
  {
   "cell_type": "code",
   "execution_count": 19,
   "outputs": [
    {
     "name": "stderr",
     "output_type": "stream",
     "text": [
      "Downloading: \"https://github.com/ultralytics/yolov5/archive/master.zip\" to /home/rohan/.cache/torch/hub/master.zip\n",
      "fatal: not a git repository (or any of the parent directories): .git\n",
      "YOLOv5 🚀 2022-3-16 torch 1.11.0+cu102 CPU\n",
      "\n"
     ]
    },
    {
     "name": "stdout",
     "output_type": "stream",
     "text": [
      "Downloading https://github.com/ultralytics/yolov5/releases/download/v6.1/yolov5s.pt to yolov5s.pt...\n"
     ]
    },
    {
     "data": {
      "text/plain": "  0%|          | 0.00/14.1M [00:00<?, ?B/s]",
      "application/vnd.jupyter.widget-view+json": {
       "version_major": 2,
       "version_minor": 0,
       "model_id": "00406bec25be47b7bd4bdc49d0df97b1"
      }
     },
     "metadata": {},
     "output_type": "display_data"
    },
    {
     "name": "stderr",
     "output_type": "stream",
     "text": [
      "Fusing layers... \n",
      "Model Summary: 213 layers, 7225885 parameters, 0 gradients\n",
      "Adding AutoShape... \n"
     ]
    },
    {
     "name": "stdout",
     "output_type": "stream",
     "text": [
      "\n"
     ]
    }
   ],
   "source": [
    "# not required\n",
    "# model = torch.hub.load('ultralytics/yolov5', 'yolov5s')"
   ],
   "metadata": {
    "collapsed": false,
    "pycharm": {
     "name": "#%%\n"
    }
   }
  },
  {
   "cell_type": "code",
   "execution_count": null,
   "outputs": [
    {
     "name": "stdout",
     "output_type": "stream",
     "text": [
      "\u001B[34m\u001B[1mwandb\u001B[0m: (1) Create a W&B account\r\n",
      "\u001B[34m\u001B[1mwandb\u001B[0m: (2) Use an existing W&B account\r\n",
      "\u001B[34m\u001B[1mwandb\u001B[0m: (3) Don't visualize my results\r\n",
      "\u001B[34m\u001B[1mwandb\u001B[0m: Enter your choice: (30 second timeout) "
     ]
    }
   ],
   "source": [
    "!python3 yolov5/train.py --img 320 --batch 16 --epochs 500 --data yolov5/dataset.yml --weights yolov5/yolov5s.pt --workers 2"
   ],
   "metadata": {
    "collapsed": false,
    "pycharm": {
     "name": "#%%\n",
     "is_executing": true
    }
   }
  },
  {
   "cell_type": "code",
   "execution_count": 6,
   "outputs": [
    {
     "name": "stderr",
     "output_type": "stream",
     "text": [
      "Downloading: \"https://github.com/ultralytics/yolov5/archive/master.zip\" to /home/rohan/.cache/torch/hub/master.zip\n",
      "fatal: not a git repository (or any of the parent directories): .git\n",
      "YOLOv5 🚀 2022-3-21 torch 1.11.0+cu102 CPU\n",
      "\n",
      "Fusing layers... \n",
      "Model Summary: 213 layers, 7058671 parameters, 0 gradients, 15.9 GFLOPs\n",
      "Adding AutoShape... \n"
     ]
    }
   ],
   "source": [
    "model = torch.hub.load('ultralytics/yolov5', 'custom', path='yolov5/runs/train/exp/weights/last.pt', force_reload=True)"
   ],
   "metadata": {
    "collapsed": false,
    "pycharm": {
     "name": "#%%\n"
    }
   }
  },
  {
   "cell_type": "code",
   "execution_count": 7,
   "outputs": [
    {
     "ename": "KeyboardInterrupt",
     "evalue": "",
     "output_type": "error",
     "traceback": [
      "\u001B[0;31m---------------------------------------------------------------------------\u001B[0m",
      "\u001B[0;31mKeyboardInterrupt\u001B[0m                         Traceback (most recent call last)",
      "Input \u001B[0;32mIn [7]\u001B[0m, in \u001B[0;36m<cell line: 4>\u001B[0;34m()\u001B[0m\n\u001B[1;32m      7\u001B[0m results \u001B[38;5;241m=\u001B[39m model(frame)\n\u001B[1;32m     10\u001B[0m cv2\u001B[38;5;241m.\u001B[39mimshow(\u001B[38;5;124m'\u001B[39m\u001B[38;5;124mYOLO\u001B[39m\u001B[38;5;124m'\u001B[39m, np\u001B[38;5;241m.\u001B[39msqueeze(results\u001B[38;5;241m.\u001B[39mrender()))\n\u001B[0;32m---> 12\u001B[0m key \u001B[38;5;241m=\u001B[39m \u001B[43mcv2\u001B[49m\u001B[38;5;241;43m.\u001B[39;49m\u001B[43mwaitKey\u001B[49m\u001B[43m(\u001B[49m\u001B[38;5;241;43m30\u001B[39;49m\u001B[43m)\u001B[49m\n\u001B[1;32m     13\u001B[0m \u001B[38;5;28;01mif\u001B[39;00m key \u001B[38;5;241m==\u001B[39m \u001B[38;5;241m27\u001B[39m:\n\u001B[1;32m     14\u001B[0m     \u001B[38;5;28;01mbreak\u001B[39;00m\n",
      "\u001B[0;31mKeyboardInterrupt\u001B[0m: "
     ]
    }
   ],
   "source": [
    "cap = cv2.VideoCapture(\"/media/rohan/libraries/PycharmProjects/pythonProject1/video2.mp4\")\n",
    "cap.set(cv2.CAP_PROP_FRAME_HEIGHT, -60)\n",
    "cap.set(cv2.CAP_PROP_FRAME_WIDTH, -30)\n",
    "while cap.isOpened():\n",
    "    ret, frame = cap.read()\n",
    "\n",
    "    results = model(frame)\n",
    "\n",
    "\n",
    "    cv2.imshow('YOLO', np.squeeze(results.render()))\n",
    "\n",
    "    key = cv2.waitKey(30)\n",
    "    if key == 27:\n",
    "        break\n",
    "\n",
    "cap.release()\n",
    "cv2.destroyAllWindows()"
   ],
   "metadata": {
    "collapsed": false,
    "pycharm": {
     "name": "#%%\n"
    }
   }
  }
 ],
 "metadata": {
  "kernelspec": {
   "display_name": "Python 3",
   "language": "python",
   "name": "python3"
  },
  "language_info": {
   "codemirror_mode": {
    "name": "ipython",
    "version": 2
   },
   "file_extension": ".py",
   "mimetype": "text/x-python",
   "name": "python",
   "nbconvert_exporter": "python",
   "pygments_lexer": "ipython2",
   "version": "2.7.6"
  }
 },
 "nbformat": 4,
 "nbformat_minor": 0
}