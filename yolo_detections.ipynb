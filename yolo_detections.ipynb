{
 "cells": [
  {
   "cell_type": "code",
   "execution_count": 5,
   "id": "0c69201b-2b9e-4d09-af0e-8736ffe1788e",
   "metadata": {},
   "outputs": [
    {
     "name": "stdout",
     "output_type": "stream",
     "text": [
      "Looking in links: https://download.pytorch.org/whl/lts/1.8/torch_lts.html\n"
     ]
    },
    {
     "name": "stderr",
     "output_type": "stream",
     "text": [
      "ERROR: Could not find a version that satisfies the requirement torch==1.8.2+cpu (from versions: 1.11.0)\n",
      "ERROR: No matching distribution found for torch==1.8.2+cpu\n"
     ]
    }
   ],
   "source": [
    "!pip3 install torch==1.8.2+cpu torchvision==0.9.2+cpu torchaudio===0.8.2 -f https://download.pytorch.org/whl/lts/1.8/torch_lts.html"
   ]
  },
  {
   "cell_type": "code",
   "execution_count": 33,
   "id": "1d7ac7d2-e47b-4bf1-a79d-cc4310e0fb77",
   "metadata": {},
   "outputs": [
    {
     "name": "stdout",
     "output_type": "stream",
     "text": [
      "C:\\Users\\surya\\OneDrive\\Documents\\195f\n"
     ]
    }
   ],
   "source": [
    "!git clone https://github.com/ultralytics/yolov5"
   ]
  },
  {
   "cell_type": "code",
   "execution_count": 20,
   "id": "d644e00d-2a1f-4c76-bd62-f19dc5e675fb",
   "metadata": {},
   "outputs": [
    {
     "name": "stdout",
     "output_type": "stream",
     "text": [
      "Collecting matplotlib>=3.2.2\n",
      "  Downloading matplotlib-3.5.1-cp310-cp310-win_amd64.whl (7.2 MB)\n",
      "     ---------------------------------------- 7.2/7.2 MB 10.2 MB/s eta 0:00:00\n",
      "Requirement already satisfied: numpy>=1.18.5 in c:\\python310\\lib\\site-packages (from -r requirements.txt (line 5)) (1.22.3)\n",
      "Collecting opencv-python>=4.1.2\n",
      "  Using cached opencv_python-4.5.5.64-cp36-abi3-win_amd64.whl (35.4 MB)\n",
      "Requirement already satisfied: Pillow>=7.1.2 in c:\\python310\\lib\\site-packages (from -r requirements.txt (line 7)) (9.0.1)\n",
      "Requirement already satisfied: PyYAML>=5.3.1 in c:\\python310\\lib\\site-packages (from -r requirements.txt (line 8)) (6.0)\n",
      "Requirement already satisfied: requests>=2.23.0 in c:\\python310\\lib\\site-packages (from -r requirements.txt (line 9)) (2.27.1)\n",
      "Collecting scipy>=1.4.1\n",
      "  Downloading scipy-1.8.0-cp310-cp310-win_amd64.whl (37.0 MB)\n",
      "     --------------------------------------- 37.0/37.0 MB 12.8 MB/s eta 0:00:00\n",
      "Requirement already satisfied: torch>=1.7.0 in c:\\python310\\lib\\site-packages (from -r requirements.txt (line 11)) (1.11.0)\n",
      "Requirement already satisfied: torchvision>=0.8.1 in c:\\python310\\lib\\site-packages (from -r requirements.txt (line 12)) (0.12.0)\n",
      "Requirement already satisfied: tqdm>=4.41.0 in c:\\python310\\lib\\site-packages (from -r requirements.txt (line 13)) (4.63.0)\n",
      "Collecting tensorboard>=2.4.1\n",
      "  Using cached tensorboard-2.8.0-py3-none-any.whl (5.8 MB)\n",
      "Collecting pandas>=1.1.4\n",
      "  Downloading pandas-1.4.1-cp310-cp310-win_amd64.whl (10.6 MB)\n",
      "     --------------------------------------- 10.6/10.6 MB 16.0 MB/s eta 0:00:00\n",
      "Collecting seaborn>=0.11.0\n",
      "  Using cached seaborn-0.11.2-py3-none-any.whl (292 kB)\n",
      "Collecting thop\n",
      "  Using cached thop-0.0.31.post2005241907-py3-none-any.whl (8.7 kB)\n",
      "Collecting pyparsing>=2.2.1\n",
      "  Using cached pyparsing-3.0.7-py3-none-any.whl (98 kB)\n",
      "Requirement already satisfied: python-dateutil>=2.7 in c:\\python310\\lib\\site-packages (from matplotlib>=3.2.2->-r requirements.txt (line 4)) (2.8.2)\n",
      "Collecting cycler>=0.10\n",
      "  Using cached cycler-0.11.0-py3-none-any.whl (6.4 kB)\n",
      "Collecting fonttools>=4.22.0\n",
      "  Using cached fonttools-4.30.0-py3-none-any.whl (898 kB)\n",
      "Collecting kiwisolver>=1.0.1\n",
      "  Downloading kiwisolver-1.4.0-cp310-cp310-win_amd64.whl (51 kB)\n",
      "     ---------------------------------------- 51.4/51.4 KB 2.6 MB/s eta 0:00:00\n",
      "Collecting packaging>=20.0\n",
      "  Using cached packaging-21.3-py3-none-any.whl (40 kB)\n",
      "Requirement already satisfied: idna<4,>=2.5 in c:\\python310\\lib\\site-packages (from requests>=2.23.0->-r requirements.txt (line 9)) (3.3)\n",
      "Requirement already satisfied: certifi>=2017.4.17 in c:\\python310\\lib\\site-packages (from requests>=2.23.0->-r requirements.txt (line 9)) (2021.10.8)\n",
      "Requirement already satisfied: urllib3<1.27,>=1.21.1 in c:\\python310\\lib\\site-packages (from requests>=2.23.0->-r requirements.txt (line 9)) (1.26.9)\n",
      "Requirement already satisfied: charset-normalizer~=2.0.0 in c:\\python310\\lib\\site-packages (from requests>=2.23.0->-r requirements.txt (line 9)) (2.0.12)\n",
      "Requirement already satisfied: typing-extensions in c:\\python310\\lib\\site-packages (from torch>=1.7.0->-r requirements.txt (line 11)) (4.1.1)\n",
      "Requirement already satisfied: colorama in c:\\python310\\lib\\site-packages (from tqdm>=4.41.0->-r requirements.txt (line 13)) (0.4.4)\n",
      "Collecting google-auth<3,>=1.6.3\n",
      "  Using cached google_auth-2.6.0-py2.py3-none-any.whl (156 kB)\n",
      "Requirement already satisfied: setuptools>=41.0.0 in c:\\python310\\lib\\site-packages (from tensorboard>=2.4.1->-r requirements.txt (line 16)) (58.1.0)\n",
      "Collecting grpcio>=1.24.3\n",
      "  Downloading grpcio-1.44.0-cp310-cp310-win_amd64.whl (3.4 MB)\n",
      "     ---------------------------------------- 3.4/3.4 MB 15.6 MB/s eta 0:00:00\n",
      "Collecting google-auth-oauthlib<0.5,>=0.4.1\n",
      "  Using cached google_auth_oauthlib-0.4.6-py2.py3-none-any.whl (18 kB)\n",
      "Collecting werkzeug>=0.11.15\n",
      "  Using cached Werkzeug-2.0.3-py3-none-any.whl (289 kB)\n",
      "Collecting absl-py>=0.4\n",
      "  Using cached absl_py-1.0.0-py3-none-any.whl (126 kB)\n",
      "Collecting tensorboard-plugin-wit>=1.6.0\n",
      "  Using cached tensorboard_plugin_wit-1.8.1-py3-none-any.whl (781 kB)\n",
      "Requirement already satisfied: protobuf>=3.6.0 in c:\\python310\\lib\\site-packages (from tensorboard>=2.4.1->-r requirements.txt (line 16)) (3.19.4)\n",
      "Collecting wheel>=0.26\n",
      "  Using cached wheel-0.37.1-py2.py3-none-any.whl (35 kB)\n",
      "Collecting markdown>=2.6.8\n",
      "  Using cached Markdown-3.3.6-py3-none-any.whl (97 kB)\n",
      "Collecting tensorboard-data-server<0.7.0,>=0.6.0\n",
      "  Using cached tensorboard_data_server-0.6.1-py3-none-any.whl (2.4 kB)\n",
      "Collecting pytz>=2020.1\n",
      "  Using cached pytz-2021.3-py2.py3-none-any.whl (503 kB)\n",
      "Requirement already satisfied: six in c:\\python310\\lib\\site-packages (from absl-py>=0.4->tensorboard>=2.4.1->-r requirements.txt (line 16)) (1.16.0)\n",
      "Collecting cachetools<6.0,>=2.0.0\n",
      "  Using cached cachetools-5.0.0-py3-none-any.whl (9.1 kB)\n",
      "Collecting pyasn1-modules>=0.2.1\n",
      "  Using cached pyasn1_modules-0.2.8-py2.py3-none-any.whl (155 kB)\n",
      "Collecting rsa<5,>=3.1.4\n",
      "  Using cached rsa-4.8-py3-none-any.whl (39 kB)\n",
      "Collecting requests-oauthlib>=0.7.0\n",
      "  Using cached requests_oauthlib-1.3.1-py2.py3-none-any.whl (23 kB)\n",
      "Collecting pyasn1<0.5.0,>=0.4.6\n",
      "  Using cached pyasn1-0.4.8-py2.py3-none-any.whl (77 kB)\n",
      "Collecting oauthlib>=3.0.0\n",
      "  Using cached oauthlib-3.2.0-py3-none-any.whl (151 kB)\n",
      "Installing collected packages: tensorboard-plugin-wit, pytz, pyasn1, wheel, werkzeug, tensorboard-data-server, scipy, rsa, pyparsing, pyasn1-modules, opencv-python, oauthlib, markdown, kiwisolver, grpcio, fonttools, cycler, cachetools, absl-py, thop, requests-oauthlib, pandas, packaging, google-auth, matplotlib, google-auth-oauthlib, tensorboard, seaborn\n",
      "Successfully installed absl-py-1.0.0 cachetools-5.0.0 cycler-0.11.0 fonttools-4.30.0 google-auth-2.6.0 google-auth-oauthlib-0.4.6 grpcio-1.44.0 kiwisolver-1.4.0 markdown-3.3.6 matplotlib-3.5.1 oauthlib-3.2.0 opencv-python-4.5.5.64 packaging-21.3 pandas-1.4.1 pyasn1-0.4.8 pyasn1-modules-0.2.8 pyparsing-3.0.7 pytz-2021.3 requests-oauthlib-1.3.1 rsa-4.8 scipy-1.8.0 seaborn-0.11.2 tensorboard-2.8.0 tensorboard-data-server-0.6.1 tensorboard-plugin-wit-1.8.1 thop-0.0.31.post2005241907 werkzeug-2.0.3 wheel-0.37.1\n"
     ]
    }
   ],
   "source": [
    "!pip install -r requirements.txt"
   ]
  },
  {
   "cell_type": "code",
   "execution_count": 1,
   "id": "84f01ee1-3900-4200-96f4-5bbadf597a2a",
   "metadata": {},
   "outputs": [
    {
     "name": "stderr",
     "output_type": "stream",
     "text": [
      "C:\\Users\\surya\\AppData\\Local\\Programs\\Python\\Python39\\lib\\site-packages\\tqdm\\auto.py:22: TqdmWarning: IProgress not found. Please update jupyter and ipywidgets. See https://ipywidgets.readthedocs.io/en/stable/user_install.html\n",
      "  from .autonotebook import tqdm as notebook_tqdm\n"
     ]
    }
   ],
   "source": [
    "import torch\n",
    "from matplotlib import pyplot as plt\n",
    "import numpy as np\n",
    "import cv2"
   ]
  },
  {
   "cell_type": "code",
   "execution_count": 1,
   "id": "8584a27e-8224-4407-b08e-53c4dbd8c98e",
   "metadata": {},
   "outputs": [],
   "source": [
    "import uuid  \n",
    "import os\n",
    "import time"
   ]
  },
  {
   "cell_type": "code",
   "execution_count": 27,
   "id": "177a72cf-3b7e-46ac-a380-92a40fd647d8",
   "metadata": {},
   "outputs": [
    {
     "name": "stderr",
     "output_type": "stream",
     "text": [
      "fatal: destination path 'labelImg' already exists and is not an empty directory.\n"
     ]
    }
   ],
   "source": [
    "!git clone https://github.com/tzutalin/labelImg"
   ]
  },
  {
   "cell_type": "code",
   "execution_count": 26,
   "id": "40551081-073a-4b36-9348-446662ed1c5c",
   "metadata": {},
   "outputs": [
    {
     "name": "stdout",
     "output_type": "stream",
     "text": [
      "Requirement already satisfied: pyqt5 in c:\\python310\\lib\\site-packages (5.15.6)\n",
      "Requirement already satisfied: lxml in c:\\python310\\lib\\site-packages (4.8.0)\n",
      "Requirement already satisfied: PyQt5-sip<13,>=12.8 in c:\\python310\\lib\\site-packages (from pyqt5) (12.9.1)\n",
      "Requirement already satisfied: PyQt5-Qt5>=5.15.2 in c:\\python310\\lib\\site-packages (from pyqt5) (5.15.2)\n"
     ]
    }
   ],
   "source": [
    "!pip install pyqt5 lxml --upgrade"
   ]
  },
  {
   "cell_type": "code",
   "execution_count": 28,
   "id": "ada6bb80-b2be-479f-89ad-acc74129d4f8",
   "metadata": {},
   "outputs": [
    {
     "name": "stdout",
     "output_type": "stream",
     "text": [
      "C:\\Users\\surya\\OneDrive\\Documents\\195f\\labelImg\n"
     ]
    }
   ],
   "source": [
    "cd labelImg"
   ]
  },
  {
   "cell_type": "code",
   "execution_count": 29,
   "id": "4f4ee015-335b-445b-8eca-fc431aa7e799",
   "metadata": {},
   "outputs": [],
   "source": [
    "!pyrcc5 -o libs/resources.py resources.qrc"
   ]
  },
  {
   "cell_type": "code",
   "execution_count": 8,
   "id": "3f7681dc-d84d-4a7a-8639-c80986648b9e",
   "metadata": {},
   "outputs": [
    {
     "name": "stdout",
     "output_type": "stream",
     "text": [
      "C:\\Users\\surya\\OneDrive\\Documents\\195f\n"
     ]
    }
   ],
   "source": [
    "cd .."
   ]
  },
  {
   "cell_type": "code",
   "execution_count": 6,
   "id": "7577b844-f770-4486-b1cd-004a09a7de13",
   "metadata": {},
   "outputs": [
    {
     "name": "stdout",
     "output_type": "stream",
     "text": [
      "Requirement already satisfied: wandb in c:\\users\\surya\\appdata\\local\\programs\\python\\python39\\lib\\site-packages (0.12.11)\n",
      "Requirement already satisfied: GitPython>=1.0.0 in c:\\users\\surya\\appdata\\local\\programs\\python\\python39\\lib\\site-packages (from wandb) (3.1.27)\n",
      "Requirement already satisfied: docker-pycreds>=0.4.0 in c:\\users\\surya\\appdata\\local\\programs\\python\\python39\\lib\\site-packages (from wandb) (0.4.0)\n",
      "Requirement already satisfied: protobuf>=3.12.0 in c:\\users\\surya\\appdata\\local\\programs\\python\\python39\\lib\\site-packages (from wandb) (3.19.4)\n",
      "Requirement already satisfied: six>=1.13.0 in c:\\users\\surya\\appdata\\local\\programs\\python\\python39\\lib\\site-packages (from wandb) (1.16.0)\n",
      "Requirement already satisfied: yaspin>=1.0.0 in c:\\users\\surya\\appdata\\local\\programs\\python\\python39\\lib\\site-packages (from wandb) (2.1.0)\n",
      "Requirement already satisfied: promise<3,>=2.0 in c:\\users\\surya\\appdata\\local\\programs\\python\\python39\\lib\\site-packages (from wandb) (2.3)\n",
      "Requirement already satisfied: shortuuid>=0.5.0 in c:\\users\\surya\\appdata\\local\\programs\\python\\python39\\lib\\site-packages (from wandb) (1.0.8)\n",
      "Requirement already satisfied: sentry-sdk>=1.0.0 in c:\\users\\surya\\appdata\\local\\programs\\python\\python39\\lib\\site-packages (from wandb) (1.5.7)\n",
      "Requirement already satisfied: python-dateutil>=2.6.1 in c:\\users\\surya\\appdata\\local\\programs\\python\\python39\\lib\\site-packages (from wandb) (2.8.2)\n",
      "Requirement already satisfied: pathtools in c:\\users\\surya\\appdata\\local\\programs\\python\\python39\\lib\\site-packages (from wandb) (0.1.2)\n",
      "Requirement already satisfied: PyYAML in c:\\users\\surya\\appdata\\local\\programs\\python\\python39\\lib\\site-packages (from wandb) (6.0)\n",
      "Requirement already satisfied: setproctitle in c:\\users\\surya\\appdata\\local\\programs\\python\\python39\\lib\\site-packages (from wandb) (1.2.2)\n",
      "Requirement already satisfied: Click!=8.0.0,>=7.0 in c:\\users\\surya\\appdata\\local\\programs\\python\\python39\\lib\\site-packages (from wandb) (8.0.4)\n",
      "Requirement already satisfied: requests<3,>=2.0.0 in c:\\users\\surya\\appdata\\local\\programs\\python\\python39\\lib\\site-packages (from wandb) (2.27.1)\n",
      "Requirement already satisfied: psutil>=5.0.0 in c:\\users\\surya\\appdata\\local\\programs\\python\\python39\\lib\\site-packages (from wandb) (5.9.0)\n",
      "Requirement already satisfied: colorama in c:\\users\\surya\\appdata\\local\\programs\\python\\python39\\lib\\site-packages (from Click!=8.0.0,>=7.0->wandb) (0.4.4)\n",
      "Requirement already satisfied: gitdb<5,>=4.0.1 in c:\\users\\surya\\appdata\\local\\programs\\python\\python39\\lib\\site-packages (from GitPython>=1.0.0->wandb) (4.0.9)\n",
      "Requirement already satisfied: idna<4,>=2.5 in c:\\users\\surya\\appdata\\local\\programs\\python\\python39\\lib\\site-packages (from requests<3,>=2.0.0->wandb) (3.3)\n",
      "Requirement already satisfied: certifi>=2017.4.17 in c:\\users\\surya\\appdata\\local\\programs\\python\\python39\\lib\\site-packages (from requests<3,>=2.0.0->wandb) (2021.10.8)\n",
      "Requirement already satisfied: urllib3<1.27,>=1.21.1 in c:\\users\\surya\\appdata\\local\\programs\\python\\python39\\lib\\site-packages (from requests<3,>=2.0.0->wandb) (1.26.8)\n",
      "Requirement already satisfied: charset-normalizer~=2.0.0 in c:\\users\\surya\\appdata\\local\\programs\\python\\python39\\lib\\site-packages (from requests<3,>=2.0.0->wandb) (2.0.12)\n",
      "Requirement already satisfied: termcolor<2.0.0,>=1.1.0 in c:\\users\\surya\\appdata\\local\\programs\\python\\python39\\lib\\site-packages (from yaspin>=1.0.0->wandb) (1.1.0)\n",
      "Requirement already satisfied: smmap<6,>=3.0.1 in c:\\users\\surya\\appdata\\local\\programs\\python\\python39\\lib\\site-packages (from gitdb<5,>=4.0.1->GitPython>=1.0.0->wandb) (5.0.0)\n"
     ]
    }
   ],
   "source": [
    "!pip install wandb"
   ]
  },
  {
   "cell_type": "code",
   "execution_count": 3,
   "id": "82cee47e-3b4c-4ee1-a10f-0ceb9dd7de1f",
   "metadata": {},
   "outputs": [
    {
     "name": "stdout",
     "output_type": "stream",
     "text": [
      "^C\n"
     ]
    }
   ],
   "source": [
    "!python train.py --img 320 --batch 16 --epochs 200 --data dataset.yml --weights yolov5s.pt --workers 2"
   ]
  },
  {
   "cell_type": "code",
   "execution_count": 2,
   "id": "28c96963-94a0-4cd6-a41e-a77fe9662c67",
   "metadata": {},
   "outputs": [
    {
     "name": "stdout",
     "output_type": "stream",
     "text": [
      "C:\\Users\\surya\\OneDrive\\Documents\\195f\\yolov5\n"
     ]
    }
   ],
   "source": [
    "cd yolov5"
   ]
  },
  {
   "cell_type": "code",
   "execution_count": 2,
   "id": "578f9578-4edc-497b-a087-2089b0f9c57b",
   "metadata": {},
   "outputs": [
    {
     "name": "stderr",
     "output_type": "stream",
     "text": [
      "Downloading: \"https://github.com/ultralytics/yolov5/archive/master.zip\" to C:\\Users\\surya/.cache\\torch\\hub\\master.zip\n",
      "YOLOv5  2022-5-12 torch 1.8.2+cpu CPU\n",
      "\n",
      "Fusing layers... \n",
      "Model summary: 213 layers, 7012822 parameters, 0 gradients, 15.8 GFLOPs\n",
      "Adding AutoShape... \n"
     ]
    }
   ],
   "source": [
    "model = torch.hub.load('ultralytics/yolov5', 'custom', path='yolov5/runs/train/real_exp/weights/best.pt', force_reload=True)"
   ]
  },
  {
   "cell_type": "code",
   "execution_count": 1,
   "id": "32a6bb78-25b0-4144-9163-51d0bc54d495",
   "metadata": {},
   "outputs": [
    {
     "name": "stderr",
     "output_type": "stream",
     "text": [
      "C:\\Users\\surya\\AppData\\Local\\Programs\\Python\\Python39\\lib\\site-packages\\tqdm\\auto.py:22: TqdmWarning: IProgress not found. Please update jupyter and ipywidgets. See https://ipywidgets.readthedocs.io/en/stable/user_install.html\n",
      "  from .autonotebook import tqdm as notebook_tqdm\n"
     ]
    }
   ],
   "source": [
    "import torch\n",
    "from matplotlib import pyplot as plt\n",
    "import numpy as np\n",
    "import cv2\n",
    "\n",
    "import uuid   # Unique identifier\n",
    "import os\n",
    "import time"
   ]
  },
  {
   "cell_type": "code",
   "execution_count": 9,
   "id": "afb20aa1-2a54-4c60-af58-63defb61d66c",
   "metadata": {},
   "outputs": [],
   "source": [
    "img = 'irobot/frames/trim_33/2.JPG'"
   ]
  },
  {
   "cell_type": "code",
   "execution_count": 10,
   "id": "a7fc9333-0eb4-4e67-99c3-6d24a3de460c",
   "metadata": {},
   "outputs": [],
   "source": [
    "results = model(img)"
   ]
  },
  {
   "cell_type": "code",
   "execution_count": 11,
   "id": "07fecdca-f6bc-4f9c-8674-5daeeaea037f",
   "metadata": {},
   "outputs": [
    {
     "name": "stdout",
     "output_type": "stream",
     "text": [
      "image 1/1: 1280x720 1 Sphero\n",
      "Speed: 15.0ms pre-process, 250.0ms inference, 2.0ms NMS per image at shape (1, 3, 640, 384)\n"
     ]
    }
   ],
   "source": [
    "results.print()"
   ]
  },
  {
   "cell_type": "code",
   "execution_count": 12,
   "id": "d035e254-826c-4ac5-a318-cead031970d1",
   "metadata": {},
   "outputs": [
    {
     "data": {
      "image/png": "[encoded data removed]",
      "text/plain": [
       "<Figure size 432x288 with 1 Axes>"
      ]
     },
     "metadata": {
      "needs_background": "light"
     },
     "output_type": "display_data"
    }
   ],
   "source": [
    "%matplotlib inline \n",
    "plt.imshow(np.squeeze(results.render()))\n",
    "plt.show()"
   ]
  },
  {
   "cell_type": "code",
   "execution_count": 1,
   "id": "4f771eb2-7e7c-458e-a1cb-436a37d18c44",
   "metadata": {},
   "outputs": [
    {
     "name": "stdout",
     "output_type": "stream",
     "text": [
      "C:\\Users\\surya\\OneDrive\\Documents\\195f\\yolov5\n"
     ]
    }
   ],
   "source": [
    "cd yolov5"
   ]
  },
  {
   "cell_type": "code",
   "execution_count": 22,
   "id": "5d79e9f2-c79d-4953-a4d3-2b4288316d09",
   "metadata": {},
   "outputs": [
    {
     "name": "stdout",
     "output_type": "stream",
     "text": [
      "C:\\Users\\surya\\OneDrive\\Documents\\195f\n"
     ]
    }
   ],
   "source": [
    "cd .."
   ]
  },
  {
   "cell_type": "code",
   "execution_count": 2,
   "id": "6af59893-89ff-4016-8f49-7fdb58588d85",
   "metadata": {},
   "outputs": [
    {
     "name": "stderr",
     "output_type": "stream",
     "text": [
      "C:\\Users\\surya\\AppData\\Local\\Programs\\Python\\Python39\\lib\\site-packages\\tqdm\\auto.py:22: TqdmWarning: IProgress not found. Please update jupyter and ipywidgets. See https://ipywidgets.readthedocs.io/en/stable/user_install.html\n",
      "  from .autonotebook import tqdm as notebook_tqdm\n"
     ]
    }
   ],
   "source": [
    "import torch\n",
    "from matplotlib import pyplot as plt\n",
    "import numpy as np\n",
    "import cv2"
   ]
  },
  {
   "cell_type": "code",
   "execution_count": 3,
   "id": "2429cb41-7f70-448b-8028-fa18333bad65",
   "metadata": {},
   "outputs": [
    {
     "name": "stderr",
     "output_type": "stream",
     "text": [
      "Downloading: \"https://github.com/ultralytics/yolov5/archive/master.zip\" to C:\\Users\\surya/.cache\\torch\\hub\\master.zip\n",
      "YOLOv5  2022-5-12 torch 1.8.2+cpu CPU\n",
      "\n",
      "Fusing layers... \n",
      "Model summary: 213 layers, 7012822 parameters, 0 gradients, 15.8 GFLOPs\n",
      "Adding AutoShape... \n"
     ]
    }
   ],
   "source": [
    "model = torch.hub.load('ultralytics/yolov5', 'custom', path='yolov5/runs/train/real_exp/weights/best.pt', force_reload=True)"
   ]
  },
  {
   "cell_type": "code",
   "execution_count": null,
   "id": "1bd0a184-2e86-4975-a103-f164a49934f7",
   "metadata": {},
   "outputs": [],
   "source": [
    "# simple script to see detections of sphero in a video\n",
    "cap = cv2.VideoCapture(\"irobot/videos/trim_32.mp4\")\n",
    "cap.set(cv2.CAP_PROP_FRAME_HEIGHT, 0)\n",
    "cap.set(cv2.CAP_PROP_FRAME_WIDTH, 0)\n",
    "while cap.isOpened():\n",
    "    ret, frame = cap.read()\n",
    "\n",
    "    results = model(frame)\n",
    "\n",
    "\n",
    "    cv2.imshow('YOLO', np.squeeze(results.render()))\n",
    "\n",
    "    key = cv2.waitKey(30)\n",
    "\n",
    "    if key == 27:\n",
    "        break\n",
    "\n",
    "cap.release()\n",
    "cv2.destroyAllWindows()"
   ]
  },
  {
   "cell_type": "code",
   "execution_count": null,
   "id": "3cec7359-a4f3-4be2-8a8e-7e8f61674a05",
   "metadata": {},
   "outputs": [
    {
     "name": "stdout",
     "output_type": "stream",
     "text": [
      "Series([], dtype: object)\n",
      "Series([], dtype: object)\n",
      "Series([], dtype: object)\n",
      "Series([], dtype: object)\n",
      "Series([], dtype: object)\n",
      "Series([], dtype: object)\n",
      "Series([], dtype: object)\n",
      "Series([], dtype: object)\n",
      "Series([], dtype: object)\n",
      "Series([], dtype: object)\n",
      "Series([], dtype: object)\n",
      "Series([], dtype: object)\n",
      "Series([], dtype: object)\n",
      "Series([], dtype: object)\n",
      "Series([], dtype: object)\n",
      "Series([], dtype: object)\n",
      "Series([], dtype: object)\n",
      "Series([], dtype: object)\n",
      "Series([], dtype: object)\n",
      "Series([], dtype: object)\n",
      "Series([], dtype: object)\n",
      "Series([], dtype: object)\n",
      "Series([], dtype: object)\n",
      "Series([], dtype: object)\n",
      "Series([], dtype: object)\n",
      "Series([], dtype: object)\n",
      "Series([], dtype: object)\n",
      "Series([], dtype: object)\n",
      "Series([], dtype: object)\n",
      "Series([], dtype: object)\n",
      "Series([], dtype: object)\n",
      "Series([], dtype: object)\n",
      "Series([], dtype: object)\n",
      "Series([], dtype: object)\n",
      "Series([], dtype: object)\n",
      "Series([], dtype: object)\n",
      "Series([], dtype: object)\n",
      "Series([], dtype: object)\n",
      "Series([], dtype: object)\n",
      "Series([], dtype: object)\n",
      "Series([], dtype: object)\n",
      "Series([], dtype: object)\n",
      "Series([], dtype: object)\n",
      "Series([], dtype: object)\n",
      "Series([], dtype: object)\n",
      "Series([], dtype: object)\n",
      "Series([], dtype: object)\n",
      "Series([], dtype: object)\n",
      "Series([], dtype: object)\n",
      "Series([], dtype: object)\n",
      "Series([], dtype: object)\n",
      "Series([], dtype: object)\n",
      "Series([], dtype: object)\n",
      "Series([], dtype: object)\n",
      "Series([], dtype: object)\n",
      "Series([], dtype: object)\n",
      "Series([], dtype: object)\n",
      "Series([], dtype: object)\n",
      "Series([], dtype: object)\n",
      "Series([], dtype: object)\n",
      "Series([], dtype: object)\n",
      "Series([], dtype: object)\n",
      "Series([], dtype: object)\n",
      "Series([], dtype: object)\n",
      "Series([], dtype: object)\n",
      "Series([], dtype: object)\n",
      "Series([], dtype: object)\n",
      "Series([], dtype: object)\n",
      "Series([], dtype: object)\n",
      "Series([], dtype: object)\n",
      "Series([], dtype: object)\n",
      "Series([], dtype: object)\n",
      "Series([], dtype: object)\n",
      "Series([], dtype: object)\n",
      "Series([], dtype: object)\n",
      "Series([], dtype: object)\n",
      "Series([], dtype: object)\n",
      "Series([], dtype: object)\n",
      "Series([], dtype: object)\n",
      "Series([], dtype: object)\n",
      "Series([], dtype: object)\n",
      "Series([], dtype: object)\n",
      "Series([], dtype: object)\n",
      "Series([], dtype: object)\n",
      "Series([], dtype: object)\n",
      "Series([], dtype: object)\n",
      "Series([], dtype: object)\n",
      "Series([], dtype: object)\n",
      "Series([], dtype: object)\n",
      "Series([], dtype: object)\n",
      "Series([], dtype: object)\n",
      "Series([], dtype: object)\n",
      "Series([], dtype: object)\n",
      "Series([], dtype: object)\n",
      "Series([], dtype: object)\n",
      "Series([], dtype: object)\n",
      "Series([], dtype: object)\n",
      "Series([], dtype: object)\n",
      "Series([], dtype: object)\n",
      "Series([], dtype: object)\n",
      "Series([], dtype: object)\n",
      "Series([], dtype: object)\n",
      "Series([], dtype: object)\n",
      "Series([], dtype: object)\n",
      "Series([], dtype: object)\n",
      "Series([], dtype: object)\n",
      "Series([], dtype: object)\n",
      "Series([], dtype: object)\n",
      "Series([], dtype: object)\n",
      "Series([], dtype: object)\n",
      "Series([], dtype: object)\n",
      "Series([], dtype: object)\n",
      "Series([], dtype: object)\n",
      "Series([], dtype: object)\n",
      "Series([], dtype: object)\n",
      "Series([], dtype: object)\n",
      "Series([], dtype: object)\n",
      "Series([], dtype: object)\n",
      "Series([], dtype: object)\n",
      "Series([], dtype: object)\n",
      "Series([], dtype: object)\n",
      "Series([], dtype: object)\n",
      "Series([], dtype: object)\n",
      "Series([], dtype: object)\n",
      "Series([], dtype: object)\n",
      "Series([], dtype: object)\n",
      "Series([], dtype: object)\n",
      "Series([], dtype: object)\n",
      "Series([], dtype: object)\n",
      "Series([], dtype: object)\n",
      "Series([], dtype: object)\n",
      "Series([], dtype: object)\n",
      "Series([], dtype: object)\n",
      "Series([], dtype: object)\n",
      "Series([], dtype: object)\n",
      "Series([], dtype: object)\n",
      "0    0.04658\n",
      "dtype: float64\n",
      "Series([], dtype: object)\n",
      "Series([], dtype: object)\n",
      "Series([], dtype: object)\n",
      "Series([], dtype: object)\n",
      "Series([], dtype: object)\n",
      "Series([], dtype: object)\n",
      "Series([], dtype: object)\n",
      "Series([], dtype: object)\n",
      "Series([], dtype: object)\n",
      "0    0.082553\n",
      "dtype: float64\n",
      "0    0.082484\n",
      "dtype: float64\n",
      "0    0.09712\n",
      "dtype: float64\n",
      "0    0.109503\n",
      "dtype: float64\n",
      "0    0.10959\n",
      "dtype: float64\n",
      "0    0.129244\n",
      "dtype: float64\n",
      "0    0.152738\n",
      "dtype: float64\n",
      "0    0.152642\n",
      "dtype: float64\n",
      "0    0.135522\n",
      "dtype: float64\n",
      "0    0.11382\n",
      "dtype: float64\n",
      "0    0.113812\n",
      "dtype: float64\n",
      "Series([], dtype: object)\n",
      "0    0.101531\n",
      "dtype: float64\n",
      "0    0.101936\n",
      "dtype: float64\n",
      "0    0.089464\n",
      "dtype: float64\n",
      "0    0.08029\n",
      "dtype: float64\n",
      "0    0.080294\n",
      "dtype: float64\n",
      "0    0.075942\n",
      "dtype: float64\n",
      "0    0.06954\n",
      "dtype: float64\n",
      "0    0.069451\n",
      "dtype: float64\n",
      "0    0.066799\n",
      "dtype: float64\n",
      "0    0.062247\n",
      "dtype: float64\n",
      "0    0.06224\n",
      "dtype: float64\n",
      "0    0.058729\n",
      "dtype: float64\n",
      "0    0.055038\n",
      "dtype: float64\n",
      "0    0.055032\n",
      "dtype: float64\n",
      "0    0.054397\n",
      "dtype: float64\n",
      "0    0.052541\n",
      "dtype: float64\n",
      "0    0.05254\n",
      "dtype: float64\n",
      "0    0.050603\n",
      "dtype: float64\n",
      "0    0.048511\n",
      "dtype: float64\n",
      "0    0.048511\n",
      "dtype: float64\n",
      "0    0.046603\n",
      "dtype: float64\n",
      "0    0.044356\n",
      "dtype: float64\n",
      "0    0.044365\n",
      "dtype: float64\n",
      "0    0.042855\n",
      "dtype: float64\n",
      "0    0.042296\n",
      "dtype: float64\n",
      "0    0.042296\n",
      "dtype: float64\n",
      "0    0.041886\n",
      "dtype: float64\n",
      "0    0.038198\n",
      "dtype: float64\n",
      "0    0.038194\n",
      "dtype: float64\n",
      "0    0.037612\n",
      "dtype: float64\n",
      "0    0.038412\n",
      "dtype: float64\n",
      "0    0.038412\n",
      "dtype: float64\n",
      "0    0.037765\n",
      "dtype: float64\n",
      "0    0.031752\n",
      "dtype: float64\n",
      "0    0.031859\n",
      "dtype: float64\n",
      "0    0.030414\n",
      "dtype: float64\n",
      "0    0.03112\n",
      "dtype: float64\n",
      "0    0.031121\n",
      "dtype: float64\n",
      "0    0.028564\n",
      "dtype: float64\n",
      "0    0.028897\n",
      "dtype: float64\n",
      "0    0.028897\n",
      "dtype: float64\n",
      "0    0.028544\n",
      "dtype: float64\n",
      "0    0.027046\n",
      "dtype: float64\n",
      "0    0.027045\n",
      "dtype: float64\n",
      "0    0.024511\n",
      "dtype: float64\n",
      "0    0.026555\n",
      "dtype: float64\n",
      "0    0.02648\n",
      "dtype: float64\n",
      "0    0.026087\n",
      "dtype: float64\n",
      "Series([], dtype: object)\n",
      "Series([], dtype: object)\n",
      "0    0.023868\n",
      "dtype: float64\n",
      "0    0.023148\n",
      "dtype: float64\n",
      "0    0.023159\n",
      "dtype: float64\n",
      "0    0.021395\n",
      "dtype: float64\n",
      "0    0.020652\n",
      "dtype: float64\n",
      "0    0.020653\n",
      "dtype: float64\n",
      "0    0.023507\n",
      "dtype: float64\n"
     ]
    }
   ],
   "source": [
    "# script to get the real time area of the sphero in a video\n",
    "cap = cv2.VideoCapture(\"resized.mp4\")\n",
    "\n",
    "\n",
    "while True:\n",
    "    ret, frame = cap.read()\n",
    "    \n",
    "    results = model(frame)\n",
    "    \n",
    "    \n",
    "    \n",
    "    x_min = results.pandas().xyxy[0]['xmin']\n",
    "    y_min = results.pandas().xyxy[0]['ymin']\n",
    "    x_max = results.pandas().xyxy[0]['xmax']\n",
    "    y_max = results.pandas().xyxy[0]['ymax']\n",
    "    \n",
    "    dw = 1./(640)\n",
    "    dh = 1./(640)\n",
    "    w = x_max - x_min\n",
    "    h = y_max - y_min\n",
    "    w = w*dw\n",
    "    h = h*dh\n",
    "    \n",
    "    a = w*h\n",
    "    print(a)\n",
    "    \n",
    "    cv2.imshow('YOLO', np.squeeze(results.render()))\n",
    "    \n",
    "    key = cv2.waitKey(30)\n",
    "    if key == 27:\n",
    "        break\n",
    "\n",
    "cap.release()\n",
    "cv2.destroyAllWindows()"
   ]
  }
 ],
 "metadata": {
  "kernelspec": {
   "display_name": "Python 3 (ipykernel)",
   "language": "python",
   "name": "python3"
  },
  "language_info": {
   "codemirror_mode": {
    "name": "ipython",
    "version": 3
   },
   "file_extension": ".py",
   "mimetype": "text/x-python",
   "name": "python",
   "nbconvert_exporter": "python",
   "pygments_lexer": "ipython3",
   "version": "3.9.10"
  }
 },
 "nbformat": 4,
 "nbformat_minor": 5
}
